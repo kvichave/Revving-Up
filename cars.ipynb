{
 "cells": [
  {
   "cell_type": "code",
   "execution_count": 28,
   "metadata": {},
   "outputs": [],
   "source": [
    "import plotly.express as px\n",
    "from plotly.subplots import make_subplots\n",
    "import plotly.graph_objects as go\n",
    "\n",
    "\n",
    "import requests\n",
    "from bs4 import BeautifulSoup as bs\n",
    "import pandas as pd\n",
    "import re\n",
    "class bugati:\n",
    "    cars_list = {}\n",
    "    models = {}\n",
    "    detailofcar = {}\n",
    "    domain = \"https://www.cartrade.com\"\n",
    "    brands = {}\n",
    "\n",
    "    def brand(self):\n",
    "\n",
    "        # import streamlit as st\n",
    "        # Send a GET request to the URL\n",
    "        url = \"https://www.cartrade.com/new-cars/\"\n",
    "        response = requests.get(url)\n",
    "\n",
    "        # Create a BeautifulSoup object and specify the parser\n",
    "        soup = bs(response.content, \"html.parser\")\n",
    "\n",
    "        # # Find the car listings on the page Peak Torque (Nm@rpm\n",
    "        brand_listings = soup.find_all(\"div\", class_=\"logo_brnds\")\n",
    "        for brand in brand_listings:\n",
    "            links = brand.find_all('a')[1]\n",
    "            self.brands[brand.text] = self.domain+ links['href']\n",
    "            # print(\"https://www.cartrade.com\"+links['href'])\n",
    "        # a = list(self.brands.keys())\n",
    "        return self.brands\n",
    "\n",
    "    def cars(self,car):\n",
    "        url = self.brands.get(car)\n",
    "        response = requests.get(url)\n",
    "\n",
    "        # Create a BeautifulSoup object and specify the parser\n",
    "        soup = bs(response.content, \"html.parser\")\n",
    "        car_list=soup.find_all('a',class_=\"car-list-title\")\n",
    "        for car in car_list:\n",
    "            # print(car)\n",
    "            self.cars_list[car.text]=self.domain+car['href']\n",
    "        # print (self.cars_list)\n",
    "        return self.cars_list\n",
    "\n",
    "\n",
    "    def variant(self,model):\n",
    "        url=self.cars_list.get(model)\n",
    "        response=requests.get(url)\n",
    "        soup = bs(response.content,\"html.parser\")\n",
    "        model=soup.find_all(\"div\",class_=\"car-vrsn\")\n",
    "        for model in model:\n",
    "            ahref=model.find_all('a')[0]\n",
    "            self.models[ahref.text]= self.domain + ahref['href']\n",
    "        # print(self.models)\n",
    "        return self.models\n",
    "\n",
    "    # text=[]\n",
    "    def details(self,var):\n",
    "        url=self.models.get(var)\n",
    "        # print(url)\n",
    "        # detailofcar={}\n",
    "        response = requests.get(url)\n",
    "        soup = bs(response.content,\"html.parser\")\n",
    "        spe=soup.find_all(\"div\",class_=\"spec-details\")\n",
    "        for div in spe:\n",
    "            text=div.find('div',class_='text').text\n",
    "            if div.find('div', class_='val') != None:\n",
    "                val=div.find('div', class_='val').text\n",
    "            else:\n",
    "                val=\"No information\"\n",
    "            self.detailofcar[text]=val\n",
    "        # print (self.a)\n",
    "        self.detailofcar['Name']=var\n",
    "        return(self.detailofcar)\n",
    "\n",
    "    def reg(self,det):\n",
    "        try:\n",
    "            power = re.findall(r'\\d+', det[\" Peak Power (bhp@rpm)\"])\n",
    "            det[' Peak Power (bhp@rpm)'] = [int(i) for i in power]\n",
    "        except:\n",
    "            print('Null')\n",
    "\n",
    "        try:    \n",
    "            torque = re.findall(r'\\d+', det[\" Peak Torque (Nm@rpm)\"])\n",
    "            det[' Peak Torque (Nm@rpm)'] = [int(i) for i in torque]\n",
    "        except:\n",
    "            print('Null')\n",
    "        \n",
    "        try:\n",
    "            det[' Bootspace / Dicky Capacity (L)'] = int(det[' Bootspace / Dicky Capacity (L)'])\n",
    "        # print(bootspace)\n",
    "        except:\n",
    "            print('Null')\n",
    "        \n",
    "        try:\n",
    "            det[' Fuel Tank Capacity (L)'] = int(det[\" Fuel Tank Capacity (L)\"])\n",
    "        # print(fueltank)\n",
    "        except:\n",
    "            print('Null')\n",
    "        \n",
    "        try:\n",
    "            det[' Passenger Capacity'] = int(det[' Passenger Capacity'])\n",
    "        # print(passengercapacity)\n",
    "        except:\n",
    "            print('Null')\n",
    "        \n",
    "        try:\n",
    "            \n",
    "            det[' Ground Clearance (mm)'] = int(det[' Ground Clearance (mm)'])\n",
    "        # print(gclearnece)\n",
    "        except:\n",
    "            print('Null')\n",
    "        \n",
    "        try:\n",
    "            det[' No of Seating Rows'] = int(det[' No of Seating Rows'])\n",
    "        except:\n",
    "            print('Null')\n",
    "        \n",
    "        try:\n",
    "            ncap = re.findall(r'\\d+', det[\" NCAP Rating (Best - 5 Star)\"])\n",
    "            det[' NCAP Rating (Best - 5 Star)'] = int(ncap[0])\n",
    "        except:\n",
    "            print('Null')\n",
    "        \n",
    "        try:\n",
    "            det[' Airbags'] = int(re.findall(r'\\d+', det[\" Airbags\"])[0])\n",
    "        # print(airbags)\n",
    "        except:\n",
    "            print('Null')\n",
    "        \n",
    "        try:\n",
    "            det[' Braking Performance'] = float(det[' Braking Performance'])\n",
    "        # print(breakingper)\n",
    "        except:\n",
    "            print('Null')\n",
    "        \n",
    "        try:\n",
    "            det[' Warranty (Years)'] = int(det[' Warranty (Years)'])\n",
    "        # print(warranty)\n",
    "        except:\n",
    "            print('Null')\n",
    "        \n",
    "        try:\n",
    "            det[' Transmission'] = int(re.findall(r'\\d+', det[\" Transmission\"])[0])\n",
    "        # print(transmission)\n",
    "        except:\n",
    "            print('Null')\n",
    "        \n",
    "        try:\n",
    "            engin = re.findall(r'\\d+', det[\" Engine\"])\n",
    "            det[' Engine'] = [int(i) for i in engin]\n",
    "        # print(engin)\n",
    "        except:\n",
    "            print('Null')\n",
    "        \n",
    "        try:\n",
    "            milage = re.findall(r'\\d+', det[\" Mileage - ARAI Reported\"])\n",
    "            det[' Mileage - ARAI Reported'] = [int(i) for i in milage]\n",
    "        except:\n",
    "            print('Null')\n",
    "        \n",
    "        try:\n",
    "            det[' Driving Range (km)'] = int(det[' Driving Range (km)'])\n",
    "        except:\n",
    "            print('Null')\n",
    "        return det\n",
    "        # print(milage)\n",
    "\n",
    "\n",
    "\n",
    "\n",
    "# obj2=bugati()\n",
    "# obj2.brand()\n",
    "# print(obj2.cars('Maruti Suzuki'))\n",
    "# si=obj2.variant('Maruti Suzuki Ciaz')\n",
    "# name2='Maruti Suzuki Ciaz Sigma 1.5'\n",
    "# det2=obj2.details(name2)\n",
    "# # det2['Name']=name2\n",
    "# print(det2)\n",
    "\n",
    "# reg2=obj2.reg(det2)\n",
    "# df1=pd.DataFrame([det])\n",
    "# print(df1)\n"
   ]
  },
  {
   "cell_type": "code",
   "execution_count": 29,
   "metadata": {},
   "outputs": [
    {
     "name": "stdout",
     "output_type": "stream",
     "text": [
      "{'Tata Tiago': 'https://www.cartrade.com/tata-cars/tiago/', 'Tata Punch': 'https://www.cartrade.com/tata-cars/punch/', 'Tata Tigor': 'https://www.cartrade.com/tata-cars/tigor/', 'Tata Altroz': 'https://www.cartrade.com/tata-cars/altroz/', 'Tata Tiago NRG': 'https://www.cartrade.com/tata-cars/tiago-nrg/', 'Tata Nexon': 'https://www.cartrade.com/tata-cars/nexon/', 'Tata Tiago EV': 'https://www.cartrade.com/tata-cars/tiago-ev/', 'Tata Tigor EV': 'https://www.cartrade.com/tata-cars/tigor-ev/', 'Tata Nexon EV Prime': 'https://www.cartrade.com/tata-cars/nexon-ev-prime/', 'Tata Harrier': 'https://www.cartrade.com/tata-cars/harrier/', 'Tata Safari': 'https://www.cartrade.com/tata-cars/safari/', 'Tata Nexon EV Max': 'https://www.cartrade.com/tata-cars/nexon-ev-max/'}\n",
      "{'Tata Punch Pure MT': 'https://www.cartrade.com/tata-cars/punch/pure-mt/', 'Tata Punch Pure Rhythm Pack MT': 'https://www.cartrade.com/tata-cars/punch/pure-rhythm-pack-mt/', 'Tata Punch Adventure MT': 'https://www.cartrade.com/tata-cars/punch/adventure-mt/', 'Tata Punch Camo Adventure MT': 'https://www.cartrade.com/tata-cars/punch/camo-adventure-mt/', 'Tata Punch Adventure Rhythm Pack MT': 'https://www.cartrade.com/tata-cars/punch/adventure-rhythm-pack-mt/', 'Tata Punch Camo Adventure Rhythm MT': 'https://www.cartrade.com/tata-cars/punch/camo-adventure-rhythm-mt/', 'Tata Punch Adventure AMT': 'https://www.cartrade.com/tata-cars/punch/adventure-amt/', 'Tata Punch Camo Adventure AMT': 'https://www.cartrade.com/tata-cars/punch/camo-adventure-amt/', 'Tata Punch Accomplished MT': 'https://www.cartrade.com/tata-cars/punch/accomplished-mt/', 'Tata Punch Camo Accomplished MT': 'https://www.cartrade.com/tata-cars/punch/camo-accomplished-mt/', 'Tata Punch Adventure Rhythm Pack AMT': 'https://www.cartrade.com/tata-cars/punch/adventure-rhythm-pack-amt/', 'Tata Punch Camo Adventure Rhythm AMT': 'https://www.cartrade.com/tata-cars/punch/camo-adventure-rhythm-amt/', 'Tata Punch Accomplished Dazzle Pack MT': 'https://www.cartrade.com/tata-cars/punch/accomplished-dazzle-pack-mt/', 'Tata Punch Camo Accomplished Dazzle MT': 'https://www.cartrade.com/tata-cars/punch/camo-accomplished-dazzle-mt/', 'Tata Punch Accomplished AMT': 'https://www.cartrade.com/tata-cars/punch/accomplished-amt/', 'Tata Punch Camo Accomplished AMT': 'https://www.cartrade.com/tata-cars/punch/camo-accomplished-amt/', 'Tata Punch Creative MT': 'https://www.cartrade.com/tata-cars/punch/creative-mt/', 'Tata Punch Creative Dual Tone': 'https://www.cartrade.com/tata-cars/punch/creative-dual-tone/', 'Tata Punch Accomplished Dazzle Pack AMT': 'https://www.cartrade.com/tata-cars/punch/accomplished-dazzle-pack-amt/', 'Tata Punch Camo Accomplished Dazzle AMT': 'https://www.cartrade.com/tata-cars/punch/camo-accomplished-dazzle-amt/', 'Tata Punch Creative iRA Pack MT': 'https://www.cartrade.com/tata-cars/punch/creative-ira-pack-mt/', 'Tata Punch Creative IRA Dual Tone': 'https://www.cartrade.com/tata-cars/punch/creative-ira-dual-tone/', 'Tata Punch Creative AMT': 'https://www.cartrade.com/tata-cars/punch/creative-amt/', 'Tata Punch Creative Dual Tone AMT': 'https://www.cartrade.com/tata-cars/punch/creative-dual-tone-amt/', 'Tata Punch Creative iRA Pack AMT': 'https://www.cartrade.com/tata-cars/punch/creative-ira-pack-amt/', 'Tata Punch Creative IRA AMT Dual Tone': 'https://www.cartrade.com/tata-cars/punch/creative-ira-amt-dual-tone/', 'Tata Punch CNG': 'https://www.cartrade.com/tata-cars/punch/cng/'}\n"
     ]
    }
   ],
   "source": [
    "# re.findall(r'\\d+', \"hello 42 I'm a 32 string 30\")\n",
    "# ['42', '32', '30']\n",
    "\n",
    "obj=bugati()\n",
    "\n",
    "obj.brand()\n",
    "print(obj.cars('Tata'))\n",
    "print(obj.variant('Tata Punch'))\n",
    "name='Tata Punch Pure MT'\n",
    "det=obj.details(name)\n",
    "# print(det)\n",
    "# det['Name']=name\n",
    "reg1=obj.reg(det)\n",
    "\n"
   ]
  },
  {
   "cell_type": "code",
   "execution_count": 30,
   "metadata": {},
   "outputs": [
    {
     "name": "stdout",
     "output_type": "stream",
     "text": [
      "{'Tata Tiago': 'https://www.cartrade.com/tata-cars/tiago/', 'Tata Punch': 'https://www.cartrade.com/tata-cars/punch/', 'Tata Tigor': 'https://www.cartrade.com/tata-cars/tigor/', 'Tata Altroz': 'https://www.cartrade.com/tata-cars/altroz/', 'Tata Tiago NRG': 'https://www.cartrade.com/tata-cars/tiago-nrg/', 'Tata Nexon': 'https://www.cartrade.com/tata-cars/nexon/', 'Tata Tiago EV': 'https://www.cartrade.com/tata-cars/tiago-ev/', 'Tata Tigor EV': 'https://www.cartrade.com/tata-cars/tigor-ev/', 'Tata Nexon EV Prime': 'https://www.cartrade.com/tata-cars/nexon-ev-prime/', 'Tata Harrier': 'https://www.cartrade.com/tata-cars/harrier/', 'Tata Safari': 'https://www.cartrade.com/tata-cars/safari/', 'Tata Nexon EV Max': 'https://www.cartrade.com/tata-cars/nexon-ev-max/', 'Maruti Suzuki Alto 800': 'https://www.cartrade.com/maruti-suzuki-cars/alto-800/', 'Maruti Suzuki Alto K10': 'https://www.cartrade.com/maruti-suzuki-cars/alto-k10/', 'Maruti Suzuki S-Presso': 'https://www.cartrade.com/maruti-suzuki-cars/s-presso/', 'Maruti Suzuki Eeco': 'https://www.cartrade.com/maruti-suzuki-cars/eeco/', 'Maruti Suzuki Celerio': 'https://www.cartrade.com/maruti-suzuki-cars/celerio/', 'Maruti Suzuki Wagon R': 'https://www.cartrade.com/maruti-suzuki-cars/wagon-r/', 'Maruti Suzuki Ignis': 'https://www.cartrade.com/maruti-suzuki-cars/ignis/', 'Maruti Suzuki Swift': 'https://www.cartrade.com/maruti-suzuki-cars/swift/', 'Maruti Suzuki Dzire': 'https://www.cartrade.com/maruti-suzuki-cars/dzire/', 'Maruti Suzuki Baleno': 'https://www.cartrade.com/maruti-suzuki-cars/baleno/', 'Maruti Suzuki Fronx': 'https://www.cartrade.com/maruti-suzuki-cars/fronx/', 'Maruti Suzuki Brezza': 'https://www.cartrade.com/maruti-suzuki-cars/brezza/', 'Maruti Suzuki Ertiga': 'https://www.cartrade.com/maruti-suzuki-cars/ertiga/', 'Maruti Suzuki Ciaz': 'https://www.cartrade.com/maruti-suzuki-cars/ciaz/', 'Maruti Suzuki Grand Vitara': 'https://www.cartrade.com/maruti-suzuki-cars/grand-vitara/', 'Maruti Suzuki XL6': 'https://www.cartrade.com/maruti-suzuki-cars/xl6/', 'Maruti Suzuki Jimny': 'https://www.cartrade.com/maruti-suzuki-cars/jimny/'}\n",
      "{' Fuel Type': ' Petrol', ' Transmission': ' Manual - 5 Gears', ' Mileage - ARAI Reported': [20, 9], ' Driving Range (km)': 743, ' Engine': ' 1462 cc, 4 Cylinders Inline, 4 Valves/Cylinder, DOHC', ' Engine Type': ' K15 Smart Hybrid', ' Peak Power (bhp@rpm)': ' 103 bhp @ 6000 rpm', ' Peak Torque (Nm@rpm)': ' 138 Nm @ 4400 rpm', ' Drivetrain': ' FWD', ' Others': ' Regenerative Braking, Idle Start/Stop', ' Emission Standard': ' BS6 Phase 2', ' Steering Type': ' Power assisted (Electric)', ' Suspension - Front': ' McPherson Strut', ' Suspension - Rear': ' Torsion Beam', ' Wheels Type': ' Steel Rims', ' Tyres Size - Front': ' 185 / 65 R15', ' Tyres Size - Rear': ' 185 / 65 R15', ' Spare Wheel': ' Steel', ' Bootspace / Dicky Capacity (L)': ' 510', ' Fuel Tank Capacity (L)': ' 43', ' Passenger Capacity': ' 5', ' Length (mm)': ' 4490', ' Width (mm)': ' 1730', ' Height (mm)': ' 1485', ' Wheelbase (mm)': ' 2650', ' Ground Clearance (mm)': ' 170', ' No of Seating Rows': ' 2', ' No of Doors': ' 4', ' NCAP Rating (Best - 5 Star)': ' 4 Star (ASEAN NCAP)', ' Airbags': ' 2 Airbags (Driver, Passenger)', ' Seat Belt Warning': 'No information', ' Child Lock': 'No information', ' Anchor Points for Child Seat': 'No information', ' Overspeed Warning': ' 1 beep over 80kmph, Continuous beeps over 120kmph ', ' Speed Sensing Door Lock': 'No information', ' Anti theft Engine immobilizer': 'No information', ' Central Locking': ' Keyless', ' Puncture Repair Kit': 'No information', ' Type of Instrument Cluster / Dashboard Display': ' Analogue - Digital ', ' Mileage or  Average Fuel Consumption': 'No information', ' Real Time Mileage': 'No information', ' Average Speed': 'No information', ' Distance to Empty': 'No information', ' Trip Meter': ' Electronic 2 Trips', ' Low Fuel Warning': 'No information', ' Door Not Closed Warning': 'No information', ' Parking Sensors': ' Rear', ' Clock': ' Digital', ' Headlights On Reminder': 'No information', ' Tachometer': ' Analogue', ' Android / Apple Connectivity ': ' Android Auto (No), Apple Car Play (No)', ' Steering Adjustment': ' Tilt', ' Air Conditioner': ' Yes (Manual)', ' Heater': 'No information', ' Front AC': ' Single Zone, Common Fan Speed Control', ' 12V Power Outlets': ' 2', ' Boot Access from the Last Row Seats': 'No information', ' Brake Type - Front': ' Ventilated Disc', ' Break Type - Rear': ' Drum', ' ABS - Anti Lock Braking System': 'No information', ' EBD - Electronic Brake-force Distribution': 'No information', ' Braking Performance': 54.35, ' Seat Upholstery': ' Fabric', ' Adjustment Options - Driver Seat': ' 6 way manually adjustable (seat forward / back, backrest tilt forward / back, headrest up / down)', ' Adjustment Options - Front Passanger Seat': ' 6 way manually adjustable (seat forward / back, backrest tilt forward / back, headrest up / down)', ' Headrests': ' Front & Rear', ' Rear Passenger Seats Type': ' Bench', ' Folding Rear Seat': ' Full', ' Power Windows': ' Front & Rear', ' Exterior Door Handles': ' Body Coloured', ' Interior Door Handles': ' Chrome', ' Outside Rear View Mirrors (ORVMs)': ' Body Coloured', ' Adjustable ORVM': ' Electrically Adjustable', ' Turn Indicators on ORVM': 'No information', ' Boot / Dikki Opener': ' Electric Tailgate Release', ' Headlights': ' Halogen Projector', ' Headlight Height Adjuster': 'No information', ' Tail Light': ' Halogen', ' Interiors': ' Dual Tone', ' Interior Colour(s)': ' Beige and Black', ' Lights inside Cabin': ' Front and Rear', ' Cup Holders': ' Front & Rear', ' Pockets inside Door': ' Front & Rear', ' Lights on Vanity Mirrors': ' Driver & Co-Driver', ' Body Coloured Bumpers': 'No information', ' Body Kit': ' Cladding - Black/Grey', ' Warranty (Years)': ' 2', ' Warranty (Max Kilometres)': ' 40000', ' Battery Warranty (Max Kilometres)': 'No information', 'Name': 'Maruti Suzuki Ciaz Sigma 1.5', ' Minimum Turning Radius': ' 5.4', ' Curb Weight (kgs)': ' 1055', ' Middle rear three-point seatbelt': 'No information', ' Adjustable Cluster Brightness': 'No information', ' Integrated Music System': 'No information', ' Unit / Display Size': ' 2 Din', ' Infotainment Display': ' Digital Display', ' Steering Mounted Controls': 'No information', ' Speakers': ' 6', ' FM Radio': 'No information', ' Bluetooth Connectivity': ' Phone & Audio Streaming', ' USB / Pen-Drive Support': 'No information', ' Aux Support': 'No information', ' CD Player': 'No information', ' MP3 Playback': 'No information', ' Rear AC': '  Vents Behind Front Armrest', ' Vanity Mirrors on Sun Visors': ' Co-Driver Only', ' Anti-glare Rear View Mirrors': ' Manual - Internal Only', ' Brake Assist in Emergency (BA)': 'No information', ' Electronic Stability Program (ESP)': 'No information', ' Hill Hold Assist': 'No information', ' Driver Armrest': 'No information', ' Armrest for Rear Seat': ' With Cup Holder', ' WIndow Control: One Touch - Up': ' Driver', ' Window Control: One Touch -Down': ' Driver', ' Rear Glass Defogger': 'No information', ' Storage in Driver Armrest': 'No information', ' Pockets in Front Seat-back': 'No information'}\n",
      "Null\n"
     ]
    }
   ],
   "source": [
    "\n",
    "obj2=bugati()\n",
    "obj2.brand()\n",
    "print(obj2.cars('Maruti Suzuki'))\n",
    "si=obj2.variant('Maruti Suzuki Ciaz')\n",
    "name2='Maruti Suzuki Ciaz Sigma 1.5'\n",
    "det2=obj2.details(name2)\n",
    "# det2['Name']=name2\n",
    "print(det2)\n",
    "\n",
    "reg2=obj2.reg(det2)"
   ]
  },
  {
   "cell_type": "code",
   "execution_count": 31,
   "metadata": {},
   "outputs": [
    {
     "name": "stdout",
     "output_type": "stream",
     "text": [
      "Maruti Suzuki Ciaz Sigma 1.5\n",
      "Maruti Suzuki Ciaz Sigma 1.5\n"
     ]
    }
   ],
   "source": [
    "print(reg1['Name'])\n",
    "print(reg2['Name'])\n",
    "\n"
   ]
  },
  {
   "cell_type": "code",
   "execution_count": 32,
   "metadata": {},
   "outputs": [
    {
     "data": {
      "text/plain": [
       "{' Fuel Type': ' Petrol',\n",
       " ' Transmission': 5,\n",
       " ' Mileage - ARAI Reported': [20, 9],\n",
       " ' Driving Range (km)': 743,\n",
       " ' Engine': [1462, 4, 4],\n",
       " ' Engine Type': ' K15 Smart Hybrid',\n",
       " ' Peak Power (bhp@rpm)': [103, 6000],\n",
       " ' Peak Torque (Nm@rpm)': [138, 4400],\n",
       " ' Drivetrain': ' FWD',\n",
       " ' Others': ' Regenerative Braking, Idle Start/Stop',\n",
       " ' Emission Standard': ' BS6 Phase 2',\n",
       " ' Steering Type': ' Power assisted (Electric)',\n",
       " ' Suspension - Front': ' McPherson Strut',\n",
       " ' Suspension - Rear': ' Torsion Beam',\n",
       " ' Wheels Type': ' Steel Rims',\n",
       " ' Tyres Size - Front': ' 185 / 65 R15',\n",
       " ' Tyres Size - Rear': ' 185 / 65 R15',\n",
       " ' Spare Wheel': ' Steel',\n",
       " ' Bootspace / Dicky Capacity (L)': 510,\n",
       " ' Fuel Tank Capacity (L)': 43,\n",
       " ' Passenger Capacity': 5,\n",
       " ' Length (mm)': ' 4490',\n",
       " ' Width (mm)': ' 1730',\n",
       " ' Height (mm)': ' 1485',\n",
       " ' Wheelbase (mm)': ' 2650',\n",
       " ' Ground Clearance (mm)': 170,\n",
       " ' No of Seating Rows': 2,\n",
       " ' No of Doors': ' 4',\n",
       " ' NCAP Rating (Best - 5 Star)': 4,\n",
       " ' Airbags': 2,\n",
       " ' Seat Belt Warning': 'No information',\n",
       " ' Child Lock': 'No information',\n",
       " ' Anchor Points for Child Seat': 'No information',\n",
       " ' Overspeed Warning': ' 1 beep over 80kmph, Continuous beeps over 120kmph ',\n",
       " ' Speed Sensing Door Lock': 'No information',\n",
       " ' Anti theft Engine immobilizer': 'No information',\n",
       " ' Central Locking': ' Keyless',\n",
       " ' Puncture Repair Kit': 'No information',\n",
       " ' Type of Instrument Cluster / Dashboard Display': ' Analogue - Digital ',\n",
       " ' Mileage or  Average Fuel Consumption': 'No information',\n",
       " ' Real Time Mileage': 'No information',\n",
       " ' Average Speed': 'No information',\n",
       " ' Distance to Empty': 'No information',\n",
       " ' Trip Meter': ' Electronic 2 Trips',\n",
       " ' Low Fuel Warning': 'No information',\n",
       " ' Door Not Closed Warning': 'No information',\n",
       " ' Parking Sensors': ' Rear',\n",
       " ' Clock': ' Digital',\n",
       " ' Headlights On Reminder': 'No information',\n",
       " ' Tachometer': ' Analogue',\n",
       " ' Android / Apple Connectivity ': ' Android Auto (No), Apple Car Play (No)',\n",
       " ' Steering Adjustment': ' Tilt',\n",
       " ' Air Conditioner': ' Yes (Manual)',\n",
       " ' Heater': 'No information',\n",
       " ' Front AC': ' Single Zone, Common Fan Speed Control',\n",
       " ' 12V Power Outlets': ' 2',\n",
       " ' Boot Access from the Last Row Seats': 'No information',\n",
       " ' Brake Type - Front': ' Ventilated Disc',\n",
       " ' Break Type - Rear': ' Drum',\n",
       " ' ABS - Anti Lock Braking System': 'No information',\n",
       " ' EBD - Electronic Brake-force Distribution': 'No information',\n",
       " ' Braking Performance': 54.35,\n",
       " ' Seat Upholstery': ' Fabric',\n",
       " ' Adjustment Options - Driver Seat': ' 6 way manually adjustable (seat forward / back, backrest tilt forward / back, headrest up / down)',\n",
       " ' Adjustment Options - Front Passanger Seat': ' 6 way manually adjustable (seat forward / back, backrest tilt forward / back, headrest up / down)',\n",
       " ' Headrests': ' Front & Rear',\n",
       " ' Rear Passenger Seats Type': ' Bench',\n",
       " ' Folding Rear Seat': ' Full',\n",
       " ' Power Windows': ' Front & Rear',\n",
       " ' Exterior Door Handles': ' Body Coloured',\n",
       " ' Interior Door Handles': ' Chrome',\n",
       " ' Outside Rear View Mirrors (ORVMs)': ' Body Coloured',\n",
       " ' Adjustable ORVM': ' Electrically Adjustable',\n",
       " ' Turn Indicators on ORVM': 'No information',\n",
       " ' Boot / Dikki Opener': ' Electric Tailgate Release',\n",
       " ' Headlights': ' Halogen Projector',\n",
       " ' Headlight Height Adjuster': 'No information',\n",
       " ' Tail Light': ' Halogen',\n",
       " ' Interiors': ' Dual Tone',\n",
       " ' Interior Colour(s)': ' Beige and Black',\n",
       " ' Lights inside Cabin': ' Front and Rear',\n",
       " ' Cup Holders': ' Front & Rear',\n",
       " ' Pockets inside Door': ' Front & Rear',\n",
       " ' Lights on Vanity Mirrors': ' Driver & Co-Driver',\n",
       " ' Body Coloured Bumpers': 'No information',\n",
       " ' Body Kit': ' Cladding - Black/Grey',\n",
       " ' Warranty (Years)': 2,\n",
       " ' Warranty (Max Kilometres)': ' 40000',\n",
       " ' Battery Warranty (Max Kilometres)': 'No information',\n",
       " 'Name': 'Maruti Suzuki Ciaz Sigma 1.5',\n",
       " ' Minimum Turning Radius': ' 5.4',\n",
       " ' Curb Weight (kgs)': ' 1055',\n",
       " ' Middle rear three-point seatbelt': 'No information',\n",
       " ' Adjustable Cluster Brightness': 'No information',\n",
       " ' Integrated Music System': 'No information',\n",
       " ' Unit / Display Size': ' 2 Din',\n",
       " ' Infotainment Display': ' Digital Display',\n",
       " ' Steering Mounted Controls': 'No information',\n",
       " ' Speakers': ' 6',\n",
       " ' FM Radio': 'No information',\n",
       " ' Bluetooth Connectivity': ' Phone & Audio Streaming',\n",
       " ' USB / Pen-Drive Support': 'No information',\n",
       " ' Aux Support': 'No information',\n",
       " ' CD Player': 'No information',\n",
       " ' MP3 Playback': 'No information',\n",
       " ' Rear AC': '  Vents Behind Front Armrest',\n",
       " ' Vanity Mirrors on Sun Visors': ' Co-Driver Only',\n",
       " ' Anti-glare Rear View Mirrors': ' Manual - Internal Only',\n",
       " ' Brake Assist in Emergency (BA)': 'No information',\n",
       " ' Electronic Stability Program (ESP)': 'No information',\n",
       " ' Hill Hold Assist': 'No information',\n",
       " ' Driver Armrest': 'No information',\n",
       " ' Armrest for Rear Seat': ' With Cup Holder',\n",
       " ' WIndow Control: One Touch - Up': ' Driver',\n",
       " ' Window Control: One Touch -Down': ' Driver',\n",
       " ' Rear Glass Defogger': 'No information',\n",
       " ' Storage in Driver Armrest': 'No information',\n",
       " ' Pockets in Front Seat-back': 'No information'}"
      ]
     },
     "execution_count": 32,
     "metadata": {},
     "output_type": "execute_result"
    }
   ],
   "source": [
    "reg2"
   ]
  },
  {
   "cell_type": "code",
   "execution_count": 33,
   "metadata": {},
   "outputs": [
    {
     "data": {
      "text/html": [
       "<div>\n",
       "<style scoped>\n",
       "    .dataframe tbody tr th:only-of-type {\n",
       "        vertical-align: middle;\n",
       "    }\n",
       "\n",
       "    .dataframe tbody tr th {\n",
       "        vertical-align: top;\n",
       "    }\n",
       "\n",
       "    .dataframe thead th {\n",
       "        text-align: right;\n",
       "    }\n",
       "</style>\n",
       "<table border=\"1\" class=\"dataframe\">\n",
       "  <thead>\n",
       "    <tr style=\"text-align: right;\">\n",
       "      <th></th>\n",
       "      <th>Fuel Type</th>\n",
       "      <th>Transmission</th>\n",
       "      <th>Mileage - ARAI Reported</th>\n",
       "      <th>Driving Range (km)</th>\n",
       "      <th>Engine</th>\n",
       "      <th>Engine Type</th>\n",
       "      <th>Peak Power (bhp@rpm)</th>\n",
       "      <th>Peak Torque (Nm@rpm)</th>\n",
       "      <th>Drivetrain</th>\n",
       "      <th>Others</th>\n",
       "      <th>...</th>\n",
       "      <th>Brake Assist in Emergency (BA)</th>\n",
       "      <th>Electronic Stability Program (ESP)</th>\n",
       "      <th>Hill Hold Assist</th>\n",
       "      <th>Driver Armrest</th>\n",
       "      <th>Armrest for Rear Seat</th>\n",
       "      <th>WIndow Control: One Touch - Up</th>\n",
       "      <th>Window Control: One Touch -Down</th>\n",
       "      <th>Rear Glass Defogger</th>\n",
       "      <th>Storage in Driver Armrest</th>\n",
       "      <th>Pockets in Front Seat-back</th>\n",
       "    </tr>\n",
       "  </thead>\n",
       "  <tbody>\n",
       "    <tr>\n",
       "      <th>0</th>\n",
       "      <td>Petrol</td>\n",
       "      <td>5</td>\n",
       "      <td>[20, 9]</td>\n",
       "      <td>743</td>\n",
       "      <td>[1462, 4, 4]</td>\n",
       "      <td>K15 Smart Hybrid</td>\n",
       "      <td>[103, 6000]</td>\n",
       "      <td>[138, 4400]</td>\n",
       "      <td>FWD</td>\n",
       "      <td>Regenerative Braking, Idle Start/Stop</td>\n",
       "      <td>...</td>\n",
       "      <td>No information</td>\n",
       "      <td>No information</td>\n",
       "      <td>No information</td>\n",
       "      <td>No information</td>\n",
       "      <td>With Cup Holder</td>\n",
       "      <td>Driver</td>\n",
       "      <td>Driver</td>\n",
       "      <td>No information</td>\n",
       "      <td>No information</td>\n",
       "      <td>No information</td>\n",
       "    </tr>\n",
       "    <tr>\n",
       "      <th>1</th>\n",
       "      <td>Petrol</td>\n",
       "      <td>5</td>\n",
       "      <td>[20, 9]</td>\n",
       "      <td>743</td>\n",
       "      <td>[1462, 4, 4]</td>\n",
       "      <td>K15 Smart Hybrid</td>\n",
       "      <td>[103, 6000]</td>\n",
       "      <td>[138, 4400]</td>\n",
       "      <td>FWD</td>\n",
       "      <td>Regenerative Braking, Idle Start/Stop</td>\n",
       "      <td>...</td>\n",
       "      <td>No information</td>\n",
       "      <td>No information</td>\n",
       "      <td>No information</td>\n",
       "      <td>No information</td>\n",
       "      <td>With Cup Holder</td>\n",
       "      <td>Driver</td>\n",
       "      <td>Driver</td>\n",
       "      <td>No information</td>\n",
       "      <td>No information</td>\n",
       "      <td>No information</td>\n",
       "    </tr>\n",
       "  </tbody>\n",
       "</table>\n",
       "<p>2 rows × 118 columns</p>\n",
       "</div>"
      ],
      "text/plain": [
       "   Fuel Type   Transmission  Mileage - ARAI Reported   Driving Range (km)   \n",
       "0     Petrol              5                  [20, 9]                  743  \\\n",
       "1     Petrol              5                  [20, 9]                  743   \n",
       "\n",
       "         Engine        Engine Type  Peak Power (bhp@rpm)   \n",
       "0  [1462, 4, 4]   K15 Smart Hybrid           [103, 6000]  \\\n",
       "1  [1462, 4, 4]   K15 Smart Hybrid           [103, 6000]   \n",
       "\n",
       "   Peak Torque (Nm@rpm)  Drivetrain                                  Others   \n",
       "0           [138, 4400]         FWD   Regenerative Braking, Idle Start/Stop  \\\n",
       "1           [138, 4400]         FWD   Regenerative Braking, Idle Start/Stop   \n",
       "\n",
       "   ...  Brake Assist in Emergency (BA)  Electronic Stability Program (ESP)   \n",
       "0  ...                  No information                      No information  \\\n",
       "1  ...                  No information                      No information   \n",
       "\n",
       "   Hill Hold Assist  Driver Armrest  Armrest for Rear Seat   \n",
       "0    No information  No information        With Cup Holder  \\\n",
       "1    No information  No information        With Cup Holder   \n",
       "\n",
       "   WIndow Control: One Touch - Up  Window Control: One Touch -Down   \n",
       "0                          Driver                           Driver  \\\n",
       "1                          Driver                           Driver   \n",
       "\n",
       "   Rear Glass Defogger   Storage in Driver Armrest   \n",
       "0       No information              No information  \\\n",
       "1       No information              No information   \n",
       "\n",
       "    Pockets in Front Seat-back  \n",
       "0               No information  \n",
       "1               No information  \n",
       "\n",
       "[2 rows x 118 columns]"
      ]
     },
     "execution_count": 33,
     "metadata": {},
     "output_type": "execute_result"
    }
   ],
   "source": [
    "df1= pd.DataFrame([reg1])\n",
    "df2=pd.DataFrame([reg2])\n",
    "# out=pd.DataFrame()\n",
    "\n",
    "out= pd.concat([df1,df2],ignore_index=True)\n",
    "\n",
    "out\n",
    "\n",
    "# det2\n",
    "# a=df1[' Peak Power (bhp@rpm)']+df1[' Peak Torque (Nm@rpm)']\n",
    "# print(a)\n",
    "# tnp\n",
    "\n"
   ]
  },
  {
   "cell_type": "code",
   "execution_count": 34,
   "metadata": {},
   "outputs": [
    {
     "name": "stdout",
     "output_type": "stream",
     "text": [
      "0    Maruti Suzuki Ciaz Sigma 1.5\n",
      "1    Maruti Suzuki Ciaz Sigma 1.5\n",
      "Name: Name, dtype: object\n"
     ]
    }
   ],
   "source": [
    "print(out['Name'])\n",
    "\n"
   ]
  },
  {
   "cell_type": "code",
   "execution_count": 35,
   "metadata": {},
   "outputs": [
    {
     "data": {
      "application/vnd.plotly.v1+json": {
       "config": {
        "plotlyServerURL": "https://plot.ly"
       },
       "data": [
        {
         "type": "bar",
         "x": [
          "Maruti Suzuki Ciaz Sigma 1.5",
          "Maruti Suzuki Ciaz Sigma 1.5"
         ],
         "xaxis": "x",
         "y": [
          138,
          138
         ],
         "yaxis": "y"
        },
        {
         "type": "bar",
         "x": [
          "Maruti Suzuki Ciaz Sigma 1.5",
          "Maruti Suzuki Ciaz Sigma 1.5"
         ],
         "xaxis": "x2",
         "y": [
          4400,
          4400
         ],
         "yaxis": "y2"
        }
       ],
       "layout": {
        "height": 600,
        "template": {
         "data": {
          "bar": [
           {
            "error_x": {
             "color": "#2a3f5f"
            },
            "error_y": {
             "color": "#2a3f5f"
            },
            "marker": {
             "line": {
              "color": "#E5ECF6",
              "width": 0.5
             },
             "pattern": {
              "fillmode": "overlay",
              "size": 10,
              "solidity": 0.2
             }
            },
            "type": "bar"
           }
          ],
          "barpolar": [
           {
            "marker": {
             "line": {
              "color": "#E5ECF6",
              "width": 0.5
             },
             "pattern": {
              "fillmode": "overlay",
              "size": 10,
              "solidity": 0.2
             }
            },
            "type": "barpolar"
           }
          ],
          "carpet": [
           {
            "aaxis": {
             "endlinecolor": "#2a3f5f",
             "gridcolor": "white",
             "linecolor": "white",
             "minorgridcolor": "white",
             "startlinecolor": "#2a3f5f"
            },
            "baxis": {
             "endlinecolor": "#2a3f5f",
             "gridcolor": "white",
             "linecolor": "white",
             "minorgridcolor": "white",
             "startlinecolor": "#2a3f5f"
            },
            "type": "carpet"
           }
          ],
          "choropleth": [
           {
            "colorbar": {
             "outlinewidth": 0,
             "ticks": ""
            },
            "type": "choropleth"
           }
          ],
          "contour": [
           {
            "colorbar": {
             "outlinewidth": 0,
             "ticks": ""
            },
            "colorscale": [
             [
              0,
              "#0d0887"
             ],
             [
              0.1111111111111111,
              "#46039f"
             ],
             [
              0.2222222222222222,
              "#7201a8"
             ],
             [
              0.3333333333333333,
              "#9c179e"
             ],
             [
              0.4444444444444444,
              "#bd3786"
             ],
             [
              0.5555555555555556,
              "#d8576b"
             ],
             [
              0.6666666666666666,
              "#ed7953"
             ],
             [
              0.7777777777777778,
              "#fb9f3a"
             ],
             [
              0.8888888888888888,
              "#fdca26"
             ],
             [
              1,
              "#f0f921"
             ]
            ],
            "type": "contour"
           }
          ],
          "contourcarpet": [
           {
            "colorbar": {
             "outlinewidth": 0,
             "ticks": ""
            },
            "type": "contourcarpet"
           }
          ],
          "heatmap": [
           {
            "colorbar": {
             "outlinewidth": 0,
             "ticks": ""
            },
            "colorscale": [
             [
              0,
              "#0d0887"
             ],
             [
              0.1111111111111111,
              "#46039f"
             ],
             [
              0.2222222222222222,
              "#7201a8"
             ],
             [
              0.3333333333333333,
              "#9c179e"
             ],
             [
              0.4444444444444444,
              "#bd3786"
             ],
             [
              0.5555555555555556,
              "#d8576b"
             ],
             [
              0.6666666666666666,
              "#ed7953"
             ],
             [
              0.7777777777777778,
              "#fb9f3a"
             ],
             [
              0.8888888888888888,
              "#fdca26"
             ],
             [
              1,
              "#f0f921"
             ]
            ],
            "type": "heatmap"
           }
          ],
          "heatmapgl": [
           {
            "colorbar": {
             "outlinewidth": 0,
             "ticks": ""
            },
            "colorscale": [
             [
              0,
              "#0d0887"
             ],
             [
              0.1111111111111111,
              "#46039f"
             ],
             [
              0.2222222222222222,
              "#7201a8"
             ],
             [
              0.3333333333333333,
              "#9c179e"
             ],
             [
              0.4444444444444444,
              "#bd3786"
             ],
             [
              0.5555555555555556,
              "#d8576b"
             ],
             [
              0.6666666666666666,
              "#ed7953"
             ],
             [
              0.7777777777777778,
              "#fb9f3a"
             ],
             [
              0.8888888888888888,
              "#fdca26"
             ],
             [
              1,
              "#f0f921"
             ]
            ],
            "type": "heatmapgl"
           }
          ],
          "histogram": [
           {
            "marker": {
             "pattern": {
              "fillmode": "overlay",
              "size": 10,
              "solidity": 0.2
             }
            },
            "type": "histogram"
           }
          ],
          "histogram2d": [
           {
            "colorbar": {
             "outlinewidth": 0,
             "ticks": ""
            },
            "colorscale": [
             [
              0,
              "#0d0887"
             ],
             [
              0.1111111111111111,
              "#46039f"
             ],
             [
              0.2222222222222222,
              "#7201a8"
             ],
             [
              0.3333333333333333,
              "#9c179e"
             ],
             [
              0.4444444444444444,
              "#bd3786"
             ],
             [
              0.5555555555555556,
              "#d8576b"
             ],
             [
              0.6666666666666666,
              "#ed7953"
             ],
             [
              0.7777777777777778,
              "#fb9f3a"
             ],
             [
              0.8888888888888888,
              "#fdca26"
             ],
             [
              1,
              "#f0f921"
             ]
            ],
            "type": "histogram2d"
           }
          ],
          "histogram2dcontour": [
           {
            "colorbar": {
             "outlinewidth": 0,
             "ticks": ""
            },
            "colorscale": [
             [
              0,
              "#0d0887"
             ],
             [
              0.1111111111111111,
              "#46039f"
             ],
             [
              0.2222222222222222,
              "#7201a8"
             ],
             [
              0.3333333333333333,
              "#9c179e"
             ],
             [
              0.4444444444444444,
              "#bd3786"
             ],
             [
              0.5555555555555556,
              "#d8576b"
             ],
             [
              0.6666666666666666,
              "#ed7953"
             ],
             [
              0.7777777777777778,
              "#fb9f3a"
             ],
             [
              0.8888888888888888,
              "#fdca26"
             ],
             [
              1,
              "#f0f921"
             ]
            ],
            "type": "histogram2dcontour"
           }
          ],
          "mesh3d": [
           {
            "colorbar": {
             "outlinewidth": 0,
             "ticks": ""
            },
            "type": "mesh3d"
           }
          ],
          "parcoords": [
           {
            "line": {
             "colorbar": {
              "outlinewidth": 0,
              "ticks": ""
             }
            },
            "type": "parcoords"
           }
          ],
          "pie": [
           {
            "automargin": true,
            "type": "pie"
           }
          ],
          "scatter": [
           {
            "fillpattern": {
             "fillmode": "overlay",
             "size": 10,
             "solidity": 0.2
            },
            "type": "scatter"
           }
          ],
          "scatter3d": [
           {
            "line": {
             "colorbar": {
              "outlinewidth": 0,
              "ticks": ""
             }
            },
            "marker": {
             "colorbar": {
              "outlinewidth": 0,
              "ticks": ""
             }
            },
            "type": "scatter3d"
           }
          ],
          "scattercarpet": [
           {
            "marker": {
             "colorbar": {
              "outlinewidth": 0,
              "ticks": ""
             }
            },
            "type": "scattercarpet"
           }
          ],
          "scattergeo": [
           {
            "marker": {
             "colorbar": {
              "outlinewidth": 0,
              "ticks": ""
             }
            },
            "type": "scattergeo"
           }
          ],
          "scattergl": [
           {
            "marker": {
             "colorbar": {
              "outlinewidth": 0,
              "ticks": ""
             }
            },
            "type": "scattergl"
           }
          ],
          "scattermapbox": [
           {
            "marker": {
             "colorbar": {
              "outlinewidth": 0,
              "ticks": ""
             }
            },
            "type": "scattermapbox"
           }
          ],
          "scatterpolar": [
           {
            "marker": {
             "colorbar": {
              "outlinewidth": 0,
              "ticks": ""
             }
            },
            "type": "scatterpolar"
           }
          ],
          "scatterpolargl": [
           {
            "marker": {
             "colorbar": {
              "outlinewidth": 0,
              "ticks": ""
             }
            },
            "type": "scatterpolargl"
           }
          ],
          "scatterternary": [
           {
            "marker": {
             "colorbar": {
              "outlinewidth": 0,
              "ticks": ""
             }
            },
            "type": "scatterternary"
           }
          ],
          "surface": [
           {
            "colorbar": {
             "outlinewidth": 0,
             "ticks": ""
            },
            "colorscale": [
             [
              0,
              "#0d0887"
             ],
             [
              0.1111111111111111,
              "#46039f"
             ],
             [
              0.2222222222222222,
              "#7201a8"
             ],
             [
              0.3333333333333333,
              "#9c179e"
             ],
             [
              0.4444444444444444,
              "#bd3786"
             ],
             [
              0.5555555555555556,
              "#d8576b"
             ],
             [
              0.6666666666666666,
              "#ed7953"
             ],
             [
              0.7777777777777778,
              "#fb9f3a"
             ],
             [
              0.8888888888888888,
              "#fdca26"
             ],
             [
              1,
              "#f0f921"
             ]
            ],
            "type": "surface"
           }
          ],
          "table": [
           {
            "cells": {
             "fill": {
              "color": "#EBF0F8"
             },
             "line": {
              "color": "white"
             }
            },
            "header": {
             "fill": {
              "color": "#C8D4E3"
             },
             "line": {
              "color": "white"
             }
            },
            "type": "table"
           }
          ]
         },
         "layout": {
          "annotationdefaults": {
           "arrowcolor": "#2a3f5f",
           "arrowhead": 0,
           "arrowwidth": 1
          },
          "autotypenumbers": "strict",
          "coloraxis": {
           "colorbar": {
            "outlinewidth": 0,
            "ticks": ""
           }
          },
          "colorscale": {
           "diverging": [
            [
             0,
             "#8e0152"
            ],
            [
             0.1,
             "#c51b7d"
            ],
            [
             0.2,
             "#de77ae"
            ],
            [
             0.3,
             "#f1b6da"
            ],
            [
             0.4,
             "#fde0ef"
            ],
            [
             0.5,
             "#f7f7f7"
            ],
            [
             0.6,
             "#e6f5d0"
            ],
            [
             0.7,
             "#b8e186"
            ],
            [
             0.8,
             "#7fbc41"
            ],
            [
             0.9,
             "#4d9221"
            ],
            [
             1,
             "#276419"
            ]
           ],
           "sequential": [
            [
             0,
             "#0d0887"
            ],
            [
             0.1111111111111111,
             "#46039f"
            ],
            [
             0.2222222222222222,
             "#7201a8"
            ],
            [
             0.3333333333333333,
             "#9c179e"
            ],
            [
             0.4444444444444444,
             "#bd3786"
            ],
            [
             0.5555555555555556,
             "#d8576b"
            ],
            [
             0.6666666666666666,
             "#ed7953"
            ],
            [
             0.7777777777777778,
             "#fb9f3a"
            ],
            [
             0.8888888888888888,
             "#fdca26"
            ],
            [
             1,
             "#f0f921"
            ]
           ],
           "sequentialminus": [
            [
             0,
             "#0d0887"
            ],
            [
             0.1111111111111111,
             "#46039f"
            ],
            [
             0.2222222222222222,
             "#7201a8"
            ],
            [
             0.3333333333333333,
             "#9c179e"
            ],
            [
             0.4444444444444444,
             "#bd3786"
            ],
            [
             0.5555555555555556,
             "#d8576b"
            ],
            [
             0.6666666666666666,
             "#ed7953"
            ],
            [
             0.7777777777777778,
             "#fb9f3a"
            ],
            [
             0.8888888888888888,
             "#fdca26"
            ],
            [
             1,
             "#f0f921"
            ]
           ]
          },
          "colorway": [
           "#636efa",
           "#EF553B",
           "#00cc96",
           "#ab63fa",
           "#FFA15A",
           "#19d3f3",
           "#FF6692",
           "#B6E880",
           "#FF97FF",
           "#FECB52"
          ],
          "font": {
           "color": "#2a3f5f"
          },
          "geo": {
           "bgcolor": "white",
           "lakecolor": "white",
           "landcolor": "#E5ECF6",
           "showlakes": true,
           "showland": true,
           "subunitcolor": "white"
          },
          "hoverlabel": {
           "align": "left"
          },
          "hovermode": "closest",
          "mapbox": {
           "style": "light"
          },
          "paper_bgcolor": "white",
          "plot_bgcolor": "#E5ECF6",
          "polar": {
           "angularaxis": {
            "gridcolor": "white",
            "linecolor": "white",
            "ticks": ""
           },
           "bgcolor": "#E5ECF6",
           "radialaxis": {
            "gridcolor": "white",
            "linecolor": "white",
            "ticks": ""
           }
          },
          "scene": {
           "xaxis": {
            "backgroundcolor": "#E5ECF6",
            "gridcolor": "white",
            "gridwidth": 2,
            "linecolor": "white",
            "showbackground": true,
            "ticks": "",
            "zerolinecolor": "white"
           },
           "yaxis": {
            "backgroundcolor": "#E5ECF6",
            "gridcolor": "white",
            "gridwidth": 2,
            "linecolor": "white",
            "showbackground": true,
            "ticks": "",
            "zerolinecolor": "white"
           },
           "zaxis": {
            "backgroundcolor": "#E5ECF6",
            "gridcolor": "white",
            "gridwidth": 2,
            "linecolor": "white",
            "showbackground": true,
            "ticks": "",
            "zerolinecolor": "white"
           }
          },
          "shapedefaults": {
           "line": {
            "color": "#2a3f5f"
           }
          },
          "ternary": {
           "aaxis": {
            "gridcolor": "white",
            "linecolor": "white",
            "ticks": ""
           },
           "baxis": {
            "gridcolor": "white",
            "linecolor": "white",
            "ticks": ""
           },
           "bgcolor": "#E5ECF6",
           "caxis": {
            "gridcolor": "white",
            "linecolor": "white",
            "ticks": ""
           }
          },
          "title": {
           "x": 0.05
          },
          "xaxis": {
           "automargin": true,
           "gridcolor": "white",
           "linecolor": "white",
           "ticks": "",
           "title": {
            "standoff": 15
           },
           "zerolinecolor": "white",
           "zerolinewidth": 2
          },
          "yaxis": {
           "automargin": true,
           "gridcolor": "white",
           "linecolor": "white",
           "ticks": "",
           "title": {
            "standoff": 15
           },
           "zerolinecolor": "white",
           "zerolinewidth": 2
          }
         }
        },
        "title": {
         "text": "TORQUE"
        },
        "width": 800,
        "xaxis": {
         "anchor": "y",
         "domain": [
          0,
          0.45
         ]
        },
        "xaxis2": {
         "anchor": "y2",
         "domain": [
          0.55,
          1
         ]
        },
        "yaxis": {
         "anchor": "x",
         "domain": [
          0,
          1
         ]
        },
        "yaxis2": {
         "anchor": "x2",
         "domain": [
          0,
          1
         ]
        }
       }
      }
     },
     "metadata": {},
     "output_type": "display_data"
    }
   ],
   "source": [
    "# Torque=px.bar(out, x=[out['Name'][0],out['Name'][1]] ,y=[[out[' Peak Torque (Nm@rpm)'][0][0],out[' Peak Torque (Nm@rpm)'][1][0]],[out[' Peak Torque (Nm@rpm)'][0][1],out[' Peak Torque (Nm@rpm)'][1][1]]], barmode=\"group\")\n",
    "\n",
    "# Torque.show()\n",
    "\n",
    "te = make_subplots(rows=1, cols=2)\n",
    "\n",
    "te.add_trace(\n",
    "    go.Bar(x=[out['Name'][0],out['Name'][1]], y=[out[' Peak Torque (Nm@rpm)'][0][0],out[' Peak Torque (Nm@rpm)'][1][0]]),\n",
    "    row=1, col=1\n",
    ")\n",
    "\n",
    "te.add_trace(\n",
    "    go.Bar(x=[out['Name'][0],out['Name'][1]] ,y=[out[' Peak Torque (Nm@rpm)'][0][1],out[' Peak Torque (Nm@rpm)'][1][1]]),\n",
    "    row=1, col=2\n",
    ")\n",
    "\n",
    "te.update_layout(height=600, width=800, title_text=\"TORQUE\")\n",
    "te.show()"
   ]
  },
  {
   "cell_type": "code",
   "execution_count": null,
   "metadata": {},
   "outputs": [],
   "source": []
  },
  {
   "cell_type": "code",
   "execution_count": 36,
   "metadata": {},
   "outputs": [
    {
     "data": {
      "application/vnd.plotly.v1+json": {
       "config": {
        "plotlyServerURL": "https://plot.ly"
       },
       "data": [
        {
         "type": "bar",
         "x": [
          "Maruti Suzuki Ciaz Sigma 1.5",
          "Maruti Suzuki Ciaz Sigma 1.5"
         ],
         "xaxis": "x",
         "y": [
          103,
          103
         ],
         "yaxis": "y"
        },
        {
         "type": "bar",
         "x": [
          "Maruti Suzuki Ciaz Sigma 1.5",
          "Maruti Suzuki Ciaz Sigma 1.5"
         ],
         "xaxis": "x2",
         "y": [
          6000,
          6000
         ],
         "yaxis": "y2"
        }
       ],
       "layout": {
        "height": 600,
        "template": {
         "data": {
          "bar": [
           {
            "error_x": {
             "color": "#2a3f5f"
            },
            "error_y": {
             "color": "#2a3f5f"
            },
            "marker": {
             "line": {
              "color": "#E5ECF6",
              "width": 0.5
             },
             "pattern": {
              "fillmode": "overlay",
              "size": 10,
              "solidity": 0.2
             }
            },
            "type": "bar"
           }
          ],
          "barpolar": [
           {
            "marker": {
             "line": {
              "color": "#E5ECF6",
              "width": 0.5
             },
             "pattern": {
              "fillmode": "overlay",
              "size": 10,
              "solidity": 0.2
             }
            },
            "type": "barpolar"
           }
          ],
          "carpet": [
           {
            "aaxis": {
             "endlinecolor": "#2a3f5f",
             "gridcolor": "white",
             "linecolor": "white",
             "minorgridcolor": "white",
             "startlinecolor": "#2a3f5f"
            },
            "baxis": {
             "endlinecolor": "#2a3f5f",
             "gridcolor": "white",
             "linecolor": "white",
             "minorgridcolor": "white",
             "startlinecolor": "#2a3f5f"
            },
            "type": "carpet"
           }
          ],
          "choropleth": [
           {
            "colorbar": {
             "outlinewidth": 0,
             "ticks": ""
            },
            "type": "choropleth"
           }
          ],
          "contour": [
           {
            "colorbar": {
             "outlinewidth": 0,
             "ticks": ""
            },
            "colorscale": [
             [
              0,
              "#0d0887"
             ],
             [
              0.1111111111111111,
              "#46039f"
             ],
             [
              0.2222222222222222,
              "#7201a8"
             ],
             [
              0.3333333333333333,
              "#9c179e"
             ],
             [
              0.4444444444444444,
              "#bd3786"
             ],
             [
              0.5555555555555556,
              "#d8576b"
             ],
             [
              0.6666666666666666,
              "#ed7953"
             ],
             [
              0.7777777777777778,
              "#fb9f3a"
             ],
             [
              0.8888888888888888,
              "#fdca26"
             ],
             [
              1,
              "#f0f921"
             ]
            ],
            "type": "contour"
           }
          ],
          "contourcarpet": [
           {
            "colorbar": {
             "outlinewidth": 0,
             "ticks": ""
            },
            "type": "contourcarpet"
           }
          ],
          "heatmap": [
           {
            "colorbar": {
             "outlinewidth": 0,
             "ticks": ""
            },
            "colorscale": [
             [
              0,
              "#0d0887"
             ],
             [
              0.1111111111111111,
              "#46039f"
             ],
             [
              0.2222222222222222,
              "#7201a8"
             ],
             [
              0.3333333333333333,
              "#9c179e"
             ],
             [
              0.4444444444444444,
              "#bd3786"
             ],
             [
              0.5555555555555556,
              "#d8576b"
             ],
             [
              0.6666666666666666,
              "#ed7953"
             ],
             [
              0.7777777777777778,
              "#fb9f3a"
             ],
             [
              0.8888888888888888,
              "#fdca26"
             ],
             [
              1,
              "#f0f921"
             ]
            ],
            "type": "heatmap"
           }
          ],
          "heatmapgl": [
           {
            "colorbar": {
             "outlinewidth": 0,
             "ticks": ""
            },
            "colorscale": [
             [
              0,
              "#0d0887"
             ],
             [
              0.1111111111111111,
              "#46039f"
             ],
             [
              0.2222222222222222,
              "#7201a8"
             ],
             [
              0.3333333333333333,
              "#9c179e"
             ],
             [
              0.4444444444444444,
              "#bd3786"
             ],
             [
              0.5555555555555556,
              "#d8576b"
             ],
             [
              0.6666666666666666,
              "#ed7953"
             ],
             [
              0.7777777777777778,
              "#fb9f3a"
             ],
             [
              0.8888888888888888,
              "#fdca26"
             ],
             [
              1,
              "#f0f921"
             ]
            ],
            "type": "heatmapgl"
           }
          ],
          "histogram": [
           {
            "marker": {
             "pattern": {
              "fillmode": "overlay",
              "size": 10,
              "solidity": 0.2
             }
            },
            "type": "histogram"
           }
          ],
          "histogram2d": [
           {
            "colorbar": {
             "outlinewidth": 0,
             "ticks": ""
            },
            "colorscale": [
             [
              0,
              "#0d0887"
             ],
             [
              0.1111111111111111,
              "#46039f"
             ],
             [
              0.2222222222222222,
              "#7201a8"
             ],
             [
              0.3333333333333333,
              "#9c179e"
             ],
             [
              0.4444444444444444,
              "#bd3786"
             ],
             [
              0.5555555555555556,
              "#d8576b"
             ],
             [
              0.6666666666666666,
              "#ed7953"
             ],
             [
              0.7777777777777778,
              "#fb9f3a"
             ],
             [
              0.8888888888888888,
              "#fdca26"
             ],
             [
              1,
              "#f0f921"
             ]
            ],
            "type": "histogram2d"
           }
          ],
          "histogram2dcontour": [
           {
            "colorbar": {
             "outlinewidth": 0,
             "ticks": ""
            },
            "colorscale": [
             [
              0,
              "#0d0887"
             ],
             [
              0.1111111111111111,
              "#46039f"
             ],
             [
              0.2222222222222222,
              "#7201a8"
             ],
             [
              0.3333333333333333,
              "#9c179e"
             ],
             [
              0.4444444444444444,
              "#bd3786"
             ],
             [
              0.5555555555555556,
              "#d8576b"
             ],
             [
              0.6666666666666666,
              "#ed7953"
             ],
             [
              0.7777777777777778,
              "#fb9f3a"
             ],
             [
              0.8888888888888888,
              "#fdca26"
             ],
             [
              1,
              "#f0f921"
             ]
            ],
            "type": "histogram2dcontour"
           }
          ],
          "mesh3d": [
           {
            "colorbar": {
             "outlinewidth": 0,
             "ticks": ""
            },
            "type": "mesh3d"
           }
          ],
          "parcoords": [
           {
            "line": {
             "colorbar": {
              "outlinewidth": 0,
              "ticks": ""
             }
            },
            "type": "parcoords"
           }
          ],
          "pie": [
           {
            "automargin": true,
            "type": "pie"
           }
          ],
          "scatter": [
           {
            "fillpattern": {
             "fillmode": "overlay",
             "size": 10,
             "solidity": 0.2
            },
            "type": "scatter"
           }
          ],
          "scatter3d": [
           {
            "line": {
             "colorbar": {
              "outlinewidth": 0,
              "ticks": ""
             }
            },
            "marker": {
             "colorbar": {
              "outlinewidth": 0,
              "ticks": ""
             }
            },
            "type": "scatter3d"
           }
          ],
          "scattercarpet": [
           {
            "marker": {
             "colorbar": {
              "outlinewidth": 0,
              "ticks": ""
             }
            },
            "type": "scattercarpet"
           }
          ],
          "scattergeo": [
           {
            "marker": {
             "colorbar": {
              "outlinewidth": 0,
              "ticks": ""
             }
            },
            "type": "scattergeo"
           }
          ],
          "scattergl": [
           {
            "marker": {
             "colorbar": {
              "outlinewidth": 0,
              "ticks": ""
             }
            },
            "type": "scattergl"
           }
          ],
          "scattermapbox": [
           {
            "marker": {
             "colorbar": {
              "outlinewidth": 0,
              "ticks": ""
             }
            },
            "type": "scattermapbox"
           }
          ],
          "scatterpolar": [
           {
            "marker": {
             "colorbar": {
              "outlinewidth": 0,
              "ticks": ""
             }
            },
            "type": "scatterpolar"
           }
          ],
          "scatterpolargl": [
           {
            "marker": {
             "colorbar": {
              "outlinewidth": 0,
              "ticks": ""
             }
            },
            "type": "scatterpolargl"
           }
          ],
          "scatterternary": [
           {
            "marker": {
             "colorbar": {
              "outlinewidth": 0,
              "ticks": ""
             }
            },
            "type": "scatterternary"
           }
          ],
          "surface": [
           {
            "colorbar": {
             "outlinewidth": 0,
             "ticks": ""
            },
            "colorscale": [
             [
              0,
              "#0d0887"
             ],
             [
              0.1111111111111111,
              "#46039f"
             ],
             [
              0.2222222222222222,
              "#7201a8"
             ],
             [
              0.3333333333333333,
              "#9c179e"
             ],
             [
              0.4444444444444444,
              "#bd3786"
             ],
             [
              0.5555555555555556,
              "#d8576b"
             ],
             [
              0.6666666666666666,
              "#ed7953"
             ],
             [
              0.7777777777777778,
              "#fb9f3a"
             ],
             [
              0.8888888888888888,
              "#fdca26"
             ],
             [
              1,
              "#f0f921"
             ]
            ],
            "type": "surface"
           }
          ],
          "table": [
           {
            "cells": {
             "fill": {
              "color": "#EBF0F8"
             },
             "line": {
              "color": "white"
             }
            },
            "header": {
             "fill": {
              "color": "#C8D4E3"
             },
             "line": {
              "color": "white"
             }
            },
            "type": "table"
           }
          ]
         },
         "layout": {
          "annotationdefaults": {
           "arrowcolor": "#2a3f5f",
           "arrowhead": 0,
           "arrowwidth": 1
          },
          "autotypenumbers": "strict",
          "coloraxis": {
           "colorbar": {
            "outlinewidth": 0,
            "ticks": ""
           }
          },
          "colorscale": {
           "diverging": [
            [
             0,
             "#8e0152"
            ],
            [
             0.1,
             "#c51b7d"
            ],
            [
             0.2,
             "#de77ae"
            ],
            [
             0.3,
             "#f1b6da"
            ],
            [
             0.4,
             "#fde0ef"
            ],
            [
             0.5,
             "#f7f7f7"
            ],
            [
             0.6,
             "#e6f5d0"
            ],
            [
             0.7,
             "#b8e186"
            ],
            [
             0.8,
             "#7fbc41"
            ],
            [
             0.9,
             "#4d9221"
            ],
            [
             1,
             "#276419"
            ]
           ],
           "sequential": [
            [
             0,
             "#0d0887"
            ],
            [
             0.1111111111111111,
             "#46039f"
            ],
            [
             0.2222222222222222,
             "#7201a8"
            ],
            [
             0.3333333333333333,
             "#9c179e"
            ],
            [
             0.4444444444444444,
             "#bd3786"
            ],
            [
             0.5555555555555556,
             "#d8576b"
            ],
            [
             0.6666666666666666,
             "#ed7953"
            ],
            [
             0.7777777777777778,
             "#fb9f3a"
            ],
            [
             0.8888888888888888,
             "#fdca26"
            ],
            [
             1,
             "#f0f921"
            ]
           ],
           "sequentialminus": [
            [
             0,
             "#0d0887"
            ],
            [
             0.1111111111111111,
             "#46039f"
            ],
            [
             0.2222222222222222,
             "#7201a8"
            ],
            [
             0.3333333333333333,
             "#9c179e"
            ],
            [
             0.4444444444444444,
             "#bd3786"
            ],
            [
             0.5555555555555556,
             "#d8576b"
            ],
            [
             0.6666666666666666,
             "#ed7953"
            ],
            [
             0.7777777777777778,
             "#fb9f3a"
            ],
            [
             0.8888888888888888,
             "#fdca26"
            ],
            [
             1,
             "#f0f921"
            ]
           ]
          },
          "colorway": [
           "#636efa",
           "#EF553B",
           "#00cc96",
           "#ab63fa",
           "#FFA15A",
           "#19d3f3",
           "#FF6692",
           "#B6E880",
           "#FF97FF",
           "#FECB52"
          ],
          "font": {
           "color": "#2a3f5f"
          },
          "geo": {
           "bgcolor": "white",
           "lakecolor": "white",
           "landcolor": "#E5ECF6",
           "showlakes": true,
           "showland": true,
           "subunitcolor": "white"
          },
          "hoverlabel": {
           "align": "left"
          },
          "hovermode": "closest",
          "mapbox": {
           "style": "light"
          },
          "paper_bgcolor": "white",
          "plot_bgcolor": "#E5ECF6",
          "polar": {
           "angularaxis": {
            "gridcolor": "white",
            "linecolor": "white",
            "ticks": ""
           },
           "bgcolor": "#E5ECF6",
           "radialaxis": {
            "gridcolor": "white",
            "linecolor": "white",
            "ticks": ""
           }
          },
          "scene": {
           "xaxis": {
            "backgroundcolor": "#E5ECF6",
            "gridcolor": "white",
            "gridwidth": 2,
            "linecolor": "white",
            "showbackground": true,
            "ticks": "",
            "zerolinecolor": "white"
           },
           "yaxis": {
            "backgroundcolor": "#E5ECF6",
            "gridcolor": "white",
            "gridwidth": 2,
            "linecolor": "white",
            "showbackground": true,
            "ticks": "",
            "zerolinecolor": "white"
           },
           "zaxis": {
            "backgroundcolor": "#E5ECF6",
            "gridcolor": "white",
            "gridwidth": 2,
            "linecolor": "white",
            "showbackground": true,
            "ticks": "",
            "zerolinecolor": "white"
           }
          },
          "shapedefaults": {
           "line": {
            "color": "#2a3f5f"
           }
          },
          "ternary": {
           "aaxis": {
            "gridcolor": "white",
            "linecolor": "white",
            "ticks": ""
           },
           "baxis": {
            "gridcolor": "white",
            "linecolor": "white",
            "ticks": ""
           },
           "bgcolor": "#E5ECF6",
           "caxis": {
            "gridcolor": "white",
            "linecolor": "white",
            "ticks": ""
           }
          },
          "title": {
           "x": 0.05
          },
          "xaxis": {
           "automargin": true,
           "gridcolor": "white",
           "linecolor": "white",
           "ticks": "",
           "title": {
            "standoff": 15
           },
           "zerolinecolor": "white",
           "zerolinewidth": 2
          },
          "yaxis": {
           "automargin": true,
           "gridcolor": "white",
           "linecolor": "white",
           "ticks": "",
           "title": {
            "standoff": 15
           },
           "zerolinecolor": "white",
           "zerolinewidth": 2
          }
         }
        },
        "title": {
         "text": "POWER"
        },
        "width": 800,
        "xaxis": {
         "anchor": "y",
         "domain": [
          0,
          0.45
         ]
        },
        "xaxis2": {
         "anchor": "y2",
         "domain": [
          0.55,
          1
         ]
        },
        "yaxis": {
         "anchor": "x",
         "domain": [
          0,
          1
         ]
        },
        "yaxis2": {
         "anchor": "x2",
         "domain": [
          0,
          1
         ]
        }
       }
      }
     },
     "metadata": {},
     "output_type": "display_data"
    }
   ],
   "source": [
    "\n",
    "te = make_subplots(rows=1, cols=2)\n",
    "\n",
    "te.add_trace(\n",
    "    go.Bar(x=[out['Name'][0],out['Name'][1]], y=[out[' Peak Power (bhp@rpm)'][0][0],out[' Peak Power (bhp@rpm)'][1][0]]),\n",
    "    row=1, col=1\n",
    ")\n",
    "\n",
    "te.add_trace(\n",
    "    go.Bar(x=[out['Name'][0],out['Name'][1]] ,y=[out[' Peak Power (bhp@rpm)'][0][1],out[' Peak Power (bhp@rpm)'][1][1]]),\n",
    "    row=1, col=2\n",
    ")\n",
    "\n",
    "te.update_layout(height=600, width=800, title_text=\"POWER\")\n",
    "te.show()"
   ]
  },
  {
   "cell_type": "code",
   "execution_count": 37,
   "metadata": {},
   "outputs": [
    {
     "data": {
      "application/vnd.plotly.v1+json": {
       "config": {
        "plotlyServerURL": "https://plot.ly"
       },
       "data": [
        {
         "type": "scatter",
         "x": [
          1,
          2,
          3
         ],
         "xaxis": "x",
         "y": [
          4,
          5,
          6
         ],
         "yaxis": "y"
        },
        {
         "type": "scatter",
         "x": [
          20,
          30,
          40
         ],
         "xaxis": "x2",
         "y": [
          50,
          60,
          70
         ],
         "yaxis": "y2"
        }
       ],
       "layout": {
        "height": 600,
        "template": {
         "data": {
          "bar": [
           {
            "error_x": {
             "color": "#2a3f5f"
            },
            "error_y": {
             "color": "#2a3f5f"
            },
            "marker": {
             "line": {
              "color": "#E5ECF6",
              "width": 0.5
             },
             "pattern": {
              "fillmode": "overlay",
              "size": 10,
              "solidity": 0.2
             }
            },
            "type": "bar"
           }
          ],
          "barpolar": [
           {
            "marker": {
             "line": {
              "color": "#E5ECF6",
              "width": 0.5
             },
             "pattern": {
              "fillmode": "overlay",
              "size": 10,
              "solidity": 0.2
             }
            },
            "type": "barpolar"
           }
          ],
          "carpet": [
           {
            "aaxis": {
             "endlinecolor": "#2a3f5f",
             "gridcolor": "white",
             "linecolor": "white",
             "minorgridcolor": "white",
             "startlinecolor": "#2a3f5f"
            },
            "baxis": {
             "endlinecolor": "#2a3f5f",
             "gridcolor": "white",
             "linecolor": "white",
             "minorgridcolor": "white",
             "startlinecolor": "#2a3f5f"
            },
            "type": "carpet"
           }
          ],
          "choropleth": [
           {
            "colorbar": {
             "outlinewidth": 0,
             "ticks": ""
            },
            "type": "choropleth"
           }
          ],
          "contour": [
           {
            "colorbar": {
             "outlinewidth": 0,
             "ticks": ""
            },
            "colorscale": [
             [
              0,
              "#0d0887"
             ],
             [
              0.1111111111111111,
              "#46039f"
             ],
             [
              0.2222222222222222,
              "#7201a8"
             ],
             [
              0.3333333333333333,
              "#9c179e"
             ],
             [
              0.4444444444444444,
              "#bd3786"
             ],
             [
              0.5555555555555556,
              "#d8576b"
             ],
             [
              0.6666666666666666,
              "#ed7953"
             ],
             [
              0.7777777777777778,
              "#fb9f3a"
             ],
             [
              0.8888888888888888,
              "#fdca26"
             ],
             [
              1,
              "#f0f921"
             ]
            ],
            "type": "contour"
           }
          ],
          "contourcarpet": [
           {
            "colorbar": {
             "outlinewidth": 0,
             "ticks": ""
            },
            "type": "contourcarpet"
           }
          ],
          "heatmap": [
           {
            "colorbar": {
             "outlinewidth": 0,
             "ticks": ""
            },
            "colorscale": [
             [
              0,
              "#0d0887"
             ],
             [
              0.1111111111111111,
              "#46039f"
             ],
             [
              0.2222222222222222,
              "#7201a8"
             ],
             [
              0.3333333333333333,
              "#9c179e"
             ],
             [
              0.4444444444444444,
              "#bd3786"
             ],
             [
              0.5555555555555556,
              "#d8576b"
             ],
             [
              0.6666666666666666,
              "#ed7953"
             ],
             [
              0.7777777777777778,
              "#fb9f3a"
             ],
             [
              0.8888888888888888,
              "#fdca26"
             ],
             [
              1,
              "#f0f921"
             ]
            ],
            "type": "heatmap"
           }
          ],
          "heatmapgl": [
           {
            "colorbar": {
             "outlinewidth": 0,
             "ticks": ""
            },
            "colorscale": [
             [
              0,
              "#0d0887"
             ],
             [
              0.1111111111111111,
              "#46039f"
             ],
             [
              0.2222222222222222,
              "#7201a8"
             ],
             [
              0.3333333333333333,
              "#9c179e"
             ],
             [
              0.4444444444444444,
              "#bd3786"
             ],
             [
              0.5555555555555556,
              "#d8576b"
             ],
             [
              0.6666666666666666,
              "#ed7953"
             ],
             [
              0.7777777777777778,
              "#fb9f3a"
             ],
             [
              0.8888888888888888,
              "#fdca26"
             ],
             [
              1,
              "#f0f921"
             ]
            ],
            "type": "heatmapgl"
           }
          ],
          "histogram": [
           {
            "marker": {
             "pattern": {
              "fillmode": "overlay",
              "size": 10,
              "solidity": 0.2
             }
            },
            "type": "histogram"
           }
          ],
          "histogram2d": [
           {
            "colorbar": {
             "outlinewidth": 0,
             "ticks": ""
            },
            "colorscale": [
             [
              0,
              "#0d0887"
             ],
             [
              0.1111111111111111,
              "#46039f"
             ],
             [
              0.2222222222222222,
              "#7201a8"
             ],
             [
              0.3333333333333333,
              "#9c179e"
             ],
             [
              0.4444444444444444,
              "#bd3786"
             ],
             [
              0.5555555555555556,
              "#d8576b"
             ],
             [
              0.6666666666666666,
              "#ed7953"
             ],
             [
              0.7777777777777778,
              "#fb9f3a"
             ],
             [
              0.8888888888888888,
              "#fdca26"
             ],
             [
              1,
              "#f0f921"
             ]
            ],
            "type": "histogram2d"
           }
          ],
          "histogram2dcontour": [
           {
            "colorbar": {
             "outlinewidth": 0,
             "ticks": ""
            },
            "colorscale": [
             [
              0,
              "#0d0887"
             ],
             [
              0.1111111111111111,
              "#46039f"
             ],
             [
              0.2222222222222222,
              "#7201a8"
             ],
             [
              0.3333333333333333,
              "#9c179e"
             ],
             [
              0.4444444444444444,
              "#bd3786"
             ],
             [
              0.5555555555555556,
              "#d8576b"
             ],
             [
              0.6666666666666666,
              "#ed7953"
             ],
             [
              0.7777777777777778,
              "#fb9f3a"
             ],
             [
              0.8888888888888888,
              "#fdca26"
             ],
             [
              1,
              "#f0f921"
             ]
            ],
            "type": "histogram2dcontour"
           }
          ],
          "mesh3d": [
           {
            "colorbar": {
             "outlinewidth": 0,
             "ticks": ""
            },
            "type": "mesh3d"
           }
          ],
          "parcoords": [
           {
            "line": {
             "colorbar": {
              "outlinewidth": 0,
              "ticks": ""
             }
            },
            "type": "parcoords"
           }
          ],
          "pie": [
           {
            "automargin": true,
            "type": "pie"
           }
          ],
          "scatter": [
           {
            "fillpattern": {
             "fillmode": "overlay",
             "size": 10,
             "solidity": 0.2
            },
            "type": "scatter"
           }
          ],
          "scatter3d": [
           {
            "line": {
             "colorbar": {
              "outlinewidth": 0,
              "ticks": ""
             }
            },
            "marker": {
             "colorbar": {
              "outlinewidth": 0,
              "ticks": ""
             }
            },
            "type": "scatter3d"
           }
          ],
          "scattercarpet": [
           {
            "marker": {
             "colorbar": {
              "outlinewidth": 0,
              "ticks": ""
             }
            },
            "type": "scattercarpet"
           }
          ],
          "scattergeo": [
           {
            "marker": {
             "colorbar": {
              "outlinewidth": 0,
              "ticks": ""
             }
            },
            "type": "scattergeo"
           }
          ],
          "scattergl": [
           {
            "marker": {
             "colorbar": {
              "outlinewidth": 0,
              "ticks": ""
             }
            },
            "type": "scattergl"
           }
          ],
          "scattermapbox": [
           {
            "marker": {
             "colorbar": {
              "outlinewidth": 0,
              "ticks": ""
             }
            },
            "type": "scattermapbox"
           }
          ],
          "scatterpolar": [
           {
            "marker": {
             "colorbar": {
              "outlinewidth": 0,
              "ticks": ""
             }
            },
            "type": "scatterpolar"
           }
          ],
          "scatterpolargl": [
           {
            "marker": {
             "colorbar": {
              "outlinewidth": 0,
              "ticks": ""
             }
            },
            "type": "scatterpolargl"
           }
          ],
          "scatterternary": [
           {
            "marker": {
             "colorbar": {
              "outlinewidth": 0,
              "ticks": ""
             }
            },
            "type": "scatterternary"
           }
          ],
          "surface": [
           {
            "colorbar": {
             "outlinewidth": 0,
             "ticks": ""
            },
            "colorscale": [
             [
              0,
              "#0d0887"
             ],
             [
              0.1111111111111111,
              "#46039f"
             ],
             [
              0.2222222222222222,
              "#7201a8"
             ],
             [
              0.3333333333333333,
              "#9c179e"
             ],
             [
              0.4444444444444444,
              "#bd3786"
             ],
             [
              0.5555555555555556,
              "#d8576b"
             ],
             [
              0.6666666666666666,
              "#ed7953"
             ],
             [
              0.7777777777777778,
              "#fb9f3a"
             ],
             [
              0.8888888888888888,
              "#fdca26"
             ],
             [
              1,
              "#f0f921"
             ]
            ],
            "type": "surface"
           }
          ],
          "table": [
           {
            "cells": {
             "fill": {
              "color": "#EBF0F8"
             },
             "line": {
              "color": "white"
             }
            },
            "header": {
             "fill": {
              "color": "#C8D4E3"
             },
             "line": {
              "color": "white"
             }
            },
            "type": "table"
           }
          ]
         },
         "layout": {
          "annotationdefaults": {
           "arrowcolor": "#2a3f5f",
           "arrowhead": 0,
           "arrowwidth": 1
          },
          "autotypenumbers": "strict",
          "coloraxis": {
           "colorbar": {
            "outlinewidth": 0,
            "ticks": ""
           }
          },
          "colorscale": {
           "diverging": [
            [
             0,
             "#8e0152"
            ],
            [
             0.1,
             "#c51b7d"
            ],
            [
             0.2,
             "#de77ae"
            ],
            [
             0.3,
             "#f1b6da"
            ],
            [
             0.4,
             "#fde0ef"
            ],
            [
             0.5,
             "#f7f7f7"
            ],
            [
             0.6,
             "#e6f5d0"
            ],
            [
             0.7,
             "#b8e186"
            ],
            [
             0.8,
             "#7fbc41"
            ],
            [
             0.9,
             "#4d9221"
            ],
            [
             1,
             "#276419"
            ]
           ],
           "sequential": [
            [
             0,
             "#0d0887"
            ],
            [
             0.1111111111111111,
             "#46039f"
            ],
            [
             0.2222222222222222,
             "#7201a8"
            ],
            [
             0.3333333333333333,
             "#9c179e"
            ],
            [
             0.4444444444444444,
             "#bd3786"
            ],
            [
             0.5555555555555556,
             "#d8576b"
            ],
            [
             0.6666666666666666,
             "#ed7953"
            ],
            [
             0.7777777777777778,
             "#fb9f3a"
            ],
            [
             0.8888888888888888,
             "#fdca26"
            ],
            [
             1,
             "#f0f921"
            ]
           ],
           "sequentialminus": [
            [
             0,
             "#0d0887"
            ],
            [
             0.1111111111111111,
             "#46039f"
            ],
            [
             0.2222222222222222,
             "#7201a8"
            ],
            [
             0.3333333333333333,
             "#9c179e"
            ],
            [
             0.4444444444444444,
             "#bd3786"
            ],
            [
             0.5555555555555556,
             "#d8576b"
            ],
            [
             0.6666666666666666,
             "#ed7953"
            ],
            [
             0.7777777777777778,
             "#fb9f3a"
            ],
            [
             0.8888888888888888,
             "#fdca26"
            ],
            [
             1,
             "#f0f921"
            ]
           ]
          },
          "colorway": [
           "#636efa",
           "#EF553B",
           "#00cc96",
           "#ab63fa",
           "#FFA15A",
           "#19d3f3",
           "#FF6692",
           "#B6E880",
           "#FF97FF",
           "#FECB52"
          ],
          "font": {
           "color": "#2a3f5f"
          },
          "geo": {
           "bgcolor": "white",
           "lakecolor": "white",
           "landcolor": "#E5ECF6",
           "showlakes": true,
           "showland": true,
           "subunitcolor": "white"
          },
          "hoverlabel": {
           "align": "left"
          },
          "hovermode": "closest",
          "mapbox": {
           "style": "light"
          },
          "paper_bgcolor": "white",
          "plot_bgcolor": "#E5ECF6",
          "polar": {
           "angularaxis": {
            "gridcolor": "white",
            "linecolor": "white",
            "ticks": ""
           },
           "bgcolor": "#E5ECF6",
           "radialaxis": {
            "gridcolor": "white",
            "linecolor": "white",
            "ticks": ""
           }
          },
          "scene": {
           "xaxis": {
            "backgroundcolor": "#E5ECF6",
            "gridcolor": "white",
            "gridwidth": 2,
            "linecolor": "white",
            "showbackground": true,
            "ticks": "",
            "zerolinecolor": "white"
           },
           "yaxis": {
            "backgroundcolor": "#E5ECF6",
            "gridcolor": "white",
            "gridwidth": 2,
            "linecolor": "white",
            "showbackground": true,
            "ticks": "",
            "zerolinecolor": "white"
           },
           "zaxis": {
            "backgroundcolor": "#E5ECF6",
            "gridcolor": "white",
            "gridwidth": 2,
            "linecolor": "white",
            "showbackground": true,
            "ticks": "",
            "zerolinecolor": "white"
           }
          },
          "shapedefaults": {
           "line": {
            "color": "#2a3f5f"
           }
          },
          "ternary": {
           "aaxis": {
            "gridcolor": "white",
            "linecolor": "white",
            "ticks": ""
           },
           "baxis": {
            "gridcolor": "white",
            "linecolor": "white",
            "ticks": ""
           },
           "bgcolor": "#E5ECF6",
           "caxis": {
            "gridcolor": "white",
            "linecolor": "white",
            "ticks": ""
           }
          },
          "title": {
           "x": 0.05
          },
          "xaxis": {
           "automargin": true,
           "gridcolor": "white",
           "linecolor": "white",
           "ticks": "",
           "title": {
            "standoff": 15
           },
           "zerolinecolor": "white",
           "zerolinewidth": 2
          },
          "yaxis": {
           "automargin": true,
           "gridcolor": "white",
           "linecolor": "white",
           "ticks": "",
           "title": {
            "standoff": 15
           },
           "zerolinecolor": "white",
           "zerolinewidth": 2
          }
         }
        },
        "title": {
         "text": "Side By Side Subplots"
        },
        "width": 800,
        "xaxis": {
         "anchor": "y",
         "domain": [
          0,
          0.45
         ]
        },
        "xaxis2": {
         "anchor": "y2",
         "domain": [
          0.55,
          1
         ]
        },
        "yaxis": {
         "anchor": "x",
         "domain": [
          0,
          1
         ]
        },
        "yaxis2": {
         "anchor": "x2",
         "domain": [
          0,
          1
         ]
        }
       }
      }
     },
     "metadata": {},
     "output_type": "display_data"
    }
   ],
   "source": [
    "fig = make_subplots(rows=1, cols=2)\n",
    "\n",
    "fig.add_trace(\n",
    "    go.Scatter(x=[1, 2, 3], y=[4, 5, 6]),\n",
    "    row=1, col=1\n",
    ")\n",
    "\n",
    "fig.add_trace(\n",
    "    go.Scatter(x=[20, 30, 40], y=[50, 60, 70]),\n",
    "    row=1, col=2\n",
    ")\n",
    "\n",
    "fig.update_layout(height=600, width=800, title_text=\"Side By Side Subplots\")\n",
    "fig.show()\n"
   ]
  },
  {
   "cell_type": "code",
   "execution_count": 38,
   "metadata": {},
   "outputs": [
    {
     "data": {
      "application/vnd.plotly.v1+json": {
       "config": {
        "plotlyServerURL": "https://plot.ly"
       },
       "data": [
        {
         "type": "bar",
         "x": [
          "Maruti Suzuki Ciaz Sigma 1.5",
          "Maruti Suzuki Ciaz Sigma 1.5"
         ],
         "xaxis": "x",
         "y": [
          2,
          2
         ],
         "yaxis": "y"
        },
        {
         "type": "bar",
         "x": [
          "Maruti Suzuki Ciaz Sigma 1.5",
          "Maruti Suzuki Ciaz Sigma 1.5"
         ],
         "xaxis": "x2",
         "y": [
          4,
          4
         ],
         "yaxis": "y2"
        }
       ],
       "layout": {
        "height": 600,
        "template": {
         "data": {
          "bar": [
           {
            "error_x": {
             "color": "#2a3f5f"
            },
            "error_y": {
             "color": "#2a3f5f"
            },
            "marker": {
             "line": {
              "color": "#E5ECF6",
              "width": 0.5
             },
             "pattern": {
              "fillmode": "overlay",
              "size": 10,
              "solidity": 0.2
             }
            },
            "type": "bar"
           }
          ],
          "barpolar": [
           {
            "marker": {
             "line": {
              "color": "#E5ECF6",
              "width": 0.5
             },
             "pattern": {
              "fillmode": "overlay",
              "size": 10,
              "solidity": 0.2
             }
            },
            "type": "barpolar"
           }
          ],
          "carpet": [
           {
            "aaxis": {
             "endlinecolor": "#2a3f5f",
             "gridcolor": "white",
             "linecolor": "white",
             "minorgridcolor": "white",
             "startlinecolor": "#2a3f5f"
            },
            "baxis": {
             "endlinecolor": "#2a3f5f",
             "gridcolor": "white",
             "linecolor": "white",
             "minorgridcolor": "white",
             "startlinecolor": "#2a3f5f"
            },
            "type": "carpet"
           }
          ],
          "choropleth": [
           {
            "colorbar": {
             "outlinewidth": 0,
             "ticks": ""
            },
            "type": "choropleth"
           }
          ],
          "contour": [
           {
            "colorbar": {
             "outlinewidth": 0,
             "ticks": ""
            },
            "colorscale": [
             [
              0,
              "#0d0887"
             ],
             [
              0.1111111111111111,
              "#46039f"
             ],
             [
              0.2222222222222222,
              "#7201a8"
             ],
             [
              0.3333333333333333,
              "#9c179e"
             ],
             [
              0.4444444444444444,
              "#bd3786"
             ],
             [
              0.5555555555555556,
              "#d8576b"
             ],
             [
              0.6666666666666666,
              "#ed7953"
             ],
             [
              0.7777777777777778,
              "#fb9f3a"
             ],
             [
              0.8888888888888888,
              "#fdca26"
             ],
             [
              1,
              "#f0f921"
             ]
            ],
            "type": "contour"
           }
          ],
          "contourcarpet": [
           {
            "colorbar": {
             "outlinewidth": 0,
             "ticks": ""
            },
            "type": "contourcarpet"
           }
          ],
          "heatmap": [
           {
            "colorbar": {
             "outlinewidth": 0,
             "ticks": ""
            },
            "colorscale": [
             [
              0,
              "#0d0887"
             ],
             [
              0.1111111111111111,
              "#46039f"
             ],
             [
              0.2222222222222222,
              "#7201a8"
             ],
             [
              0.3333333333333333,
              "#9c179e"
             ],
             [
              0.4444444444444444,
              "#bd3786"
             ],
             [
              0.5555555555555556,
              "#d8576b"
             ],
             [
              0.6666666666666666,
              "#ed7953"
             ],
             [
              0.7777777777777778,
              "#fb9f3a"
             ],
             [
              0.8888888888888888,
              "#fdca26"
             ],
             [
              1,
              "#f0f921"
             ]
            ],
            "type": "heatmap"
           }
          ],
          "heatmapgl": [
           {
            "colorbar": {
             "outlinewidth": 0,
             "ticks": ""
            },
            "colorscale": [
             [
              0,
              "#0d0887"
             ],
             [
              0.1111111111111111,
              "#46039f"
             ],
             [
              0.2222222222222222,
              "#7201a8"
             ],
             [
              0.3333333333333333,
              "#9c179e"
             ],
             [
              0.4444444444444444,
              "#bd3786"
             ],
             [
              0.5555555555555556,
              "#d8576b"
             ],
             [
              0.6666666666666666,
              "#ed7953"
             ],
             [
              0.7777777777777778,
              "#fb9f3a"
             ],
             [
              0.8888888888888888,
              "#fdca26"
             ],
             [
              1,
              "#f0f921"
             ]
            ],
            "type": "heatmapgl"
           }
          ],
          "histogram": [
           {
            "marker": {
             "pattern": {
              "fillmode": "overlay",
              "size": 10,
              "solidity": 0.2
             }
            },
            "type": "histogram"
           }
          ],
          "histogram2d": [
           {
            "colorbar": {
             "outlinewidth": 0,
             "ticks": ""
            },
            "colorscale": [
             [
              0,
              "#0d0887"
             ],
             [
              0.1111111111111111,
              "#46039f"
             ],
             [
              0.2222222222222222,
              "#7201a8"
             ],
             [
              0.3333333333333333,
              "#9c179e"
             ],
             [
              0.4444444444444444,
              "#bd3786"
             ],
             [
              0.5555555555555556,
              "#d8576b"
             ],
             [
              0.6666666666666666,
              "#ed7953"
             ],
             [
              0.7777777777777778,
              "#fb9f3a"
             ],
             [
              0.8888888888888888,
              "#fdca26"
             ],
             [
              1,
              "#f0f921"
             ]
            ],
            "type": "histogram2d"
           }
          ],
          "histogram2dcontour": [
           {
            "colorbar": {
             "outlinewidth": 0,
             "ticks": ""
            },
            "colorscale": [
             [
              0,
              "#0d0887"
             ],
             [
              0.1111111111111111,
              "#46039f"
             ],
             [
              0.2222222222222222,
              "#7201a8"
             ],
             [
              0.3333333333333333,
              "#9c179e"
             ],
             [
              0.4444444444444444,
              "#bd3786"
             ],
             [
              0.5555555555555556,
              "#d8576b"
             ],
             [
              0.6666666666666666,
              "#ed7953"
             ],
             [
              0.7777777777777778,
              "#fb9f3a"
             ],
             [
              0.8888888888888888,
              "#fdca26"
             ],
             [
              1,
              "#f0f921"
             ]
            ],
            "type": "histogram2dcontour"
           }
          ],
          "mesh3d": [
           {
            "colorbar": {
             "outlinewidth": 0,
             "ticks": ""
            },
            "type": "mesh3d"
           }
          ],
          "parcoords": [
           {
            "line": {
             "colorbar": {
              "outlinewidth": 0,
              "ticks": ""
             }
            },
            "type": "parcoords"
           }
          ],
          "pie": [
           {
            "automargin": true,
            "type": "pie"
           }
          ],
          "scatter": [
           {
            "fillpattern": {
             "fillmode": "overlay",
             "size": 10,
             "solidity": 0.2
            },
            "type": "scatter"
           }
          ],
          "scatter3d": [
           {
            "line": {
             "colorbar": {
              "outlinewidth": 0,
              "ticks": ""
             }
            },
            "marker": {
             "colorbar": {
              "outlinewidth": 0,
              "ticks": ""
             }
            },
            "type": "scatter3d"
           }
          ],
          "scattercarpet": [
           {
            "marker": {
             "colorbar": {
              "outlinewidth": 0,
              "ticks": ""
             }
            },
            "type": "scattercarpet"
           }
          ],
          "scattergeo": [
           {
            "marker": {
             "colorbar": {
              "outlinewidth": 0,
              "ticks": ""
             }
            },
            "type": "scattergeo"
           }
          ],
          "scattergl": [
           {
            "marker": {
             "colorbar": {
              "outlinewidth": 0,
              "ticks": ""
             }
            },
            "type": "scattergl"
           }
          ],
          "scattermapbox": [
           {
            "marker": {
             "colorbar": {
              "outlinewidth": 0,
              "ticks": ""
             }
            },
            "type": "scattermapbox"
           }
          ],
          "scatterpolar": [
           {
            "marker": {
             "colorbar": {
              "outlinewidth": 0,
              "ticks": ""
             }
            },
            "type": "scatterpolar"
           }
          ],
          "scatterpolargl": [
           {
            "marker": {
             "colorbar": {
              "outlinewidth": 0,
              "ticks": ""
             }
            },
            "type": "scatterpolargl"
           }
          ],
          "scatterternary": [
           {
            "marker": {
             "colorbar": {
              "outlinewidth": 0,
              "ticks": ""
             }
            },
            "type": "scatterternary"
           }
          ],
          "surface": [
           {
            "colorbar": {
             "outlinewidth": 0,
             "ticks": ""
            },
            "colorscale": [
             [
              0,
              "#0d0887"
             ],
             [
              0.1111111111111111,
              "#46039f"
             ],
             [
              0.2222222222222222,
              "#7201a8"
             ],
             [
              0.3333333333333333,
              "#9c179e"
             ],
             [
              0.4444444444444444,
              "#bd3786"
             ],
             [
              0.5555555555555556,
              "#d8576b"
             ],
             [
              0.6666666666666666,
              "#ed7953"
             ],
             [
              0.7777777777777778,
              "#fb9f3a"
             ],
             [
              0.8888888888888888,
              "#fdca26"
             ],
             [
              1,
              "#f0f921"
             ]
            ],
            "type": "surface"
           }
          ],
          "table": [
           {
            "cells": {
             "fill": {
              "color": "#EBF0F8"
             },
             "line": {
              "color": "white"
             }
            },
            "header": {
             "fill": {
              "color": "#C8D4E3"
             },
             "line": {
              "color": "white"
             }
            },
            "type": "table"
           }
          ]
         },
         "layout": {
          "annotationdefaults": {
           "arrowcolor": "#2a3f5f",
           "arrowhead": 0,
           "arrowwidth": 1
          },
          "autotypenumbers": "strict",
          "coloraxis": {
           "colorbar": {
            "outlinewidth": 0,
            "ticks": ""
           }
          },
          "colorscale": {
           "diverging": [
            [
             0,
             "#8e0152"
            ],
            [
             0.1,
             "#c51b7d"
            ],
            [
             0.2,
             "#de77ae"
            ],
            [
             0.3,
             "#f1b6da"
            ],
            [
             0.4,
             "#fde0ef"
            ],
            [
             0.5,
             "#f7f7f7"
            ],
            [
             0.6,
             "#e6f5d0"
            ],
            [
             0.7,
             "#b8e186"
            ],
            [
             0.8,
             "#7fbc41"
            ],
            [
             0.9,
             "#4d9221"
            ],
            [
             1,
             "#276419"
            ]
           ],
           "sequential": [
            [
             0,
             "#0d0887"
            ],
            [
             0.1111111111111111,
             "#46039f"
            ],
            [
             0.2222222222222222,
             "#7201a8"
            ],
            [
             0.3333333333333333,
             "#9c179e"
            ],
            [
             0.4444444444444444,
             "#bd3786"
            ],
            [
             0.5555555555555556,
             "#d8576b"
            ],
            [
             0.6666666666666666,
             "#ed7953"
            ],
            [
             0.7777777777777778,
             "#fb9f3a"
            ],
            [
             0.8888888888888888,
             "#fdca26"
            ],
            [
             1,
             "#f0f921"
            ]
           ],
           "sequentialminus": [
            [
             0,
             "#0d0887"
            ],
            [
             0.1111111111111111,
             "#46039f"
            ],
            [
             0.2222222222222222,
             "#7201a8"
            ],
            [
             0.3333333333333333,
             "#9c179e"
            ],
            [
             0.4444444444444444,
             "#bd3786"
            ],
            [
             0.5555555555555556,
             "#d8576b"
            ],
            [
             0.6666666666666666,
             "#ed7953"
            ],
            [
             0.7777777777777778,
             "#fb9f3a"
            ],
            [
             0.8888888888888888,
             "#fdca26"
            ],
            [
             1,
             "#f0f921"
            ]
           ]
          },
          "colorway": [
           "#636efa",
           "#EF553B",
           "#00cc96",
           "#ab63fa",
           "#FFA15A",
           "#19d3f3",
           "#FF6692",
           "#B6E880",
           "#FF97FF",
           "#FECB52"
          ],
          "font": {
           "color": "#2a3f5f"
          },
          "geo": {
           "bgcolor": "white",
           "lakecolor": "white",
           "landcolor": "#E5ECF6",
           "showlakes": true,
           "showland": true,
           "subunitcolor": "white"
          },
          "hoverlabel": {
           "align": "left"
          },
          "hovermode": "closest",
          "mapbox": {
           "style": "light"
          },
          "paper_bgcolor": "white",
          "plot_bgcolor": "#E5ECF6",
          "polar": {
           "angularaxis": {
            "gridcolor": "white",
            "linecolor": "white",
            "ticks": ""
           },
           "bgcolor": "#E5ECF6",
           "radialaxis": {
            "gridcolor": "white",
            "linecolor": "white",
            "ticks": ""
           }
          },
          "scene": {
           "xaxis": {
            "backgroundcolor": "#E5ECF6",
            "gridcolor": "white",
            "gridwidth": 2,
            "linecolor": "white",
            "showbackground": true,
            "ticks": "",
            "zerolinecolor": "white"
           },
           "yaxis": {
            "backgroundcolor": "#E5ECF6",
            "gridcolor": "white",
            "gridwidth": 2,
            "linecolor": "white",
            "showbackground": true,
            "ticks": "",
            "zerolinecolor": "white"
           },
           "zaxis": {
            "backgroundcolor": "#E5ECF6",
            "gridcolor": "white",
            "gridwidth": 2,
            "linecolor": "white",
            "showbackground": true,
            "ticks": "",
            "zerolinecolor": "white"
           }
          },
          "shapedefaults": {
           "line": {
            "color": "#2a3f5f"
           }
          },
          "ternary": {
           "aaxis": {
            "gridcolor": "white",
            "linecolor": "white",
            "ticks": ""
           },
           "baxis": {
            "gridcolor": "white",
            "linecolor": "white",
            "ticks": ""
           },
           "bgcolor": "#E5ECF6",
           "caxis": {
            "gridcolor": "white",
            "linecolor": "white",
            "ticks": ""
           }
          },
          "title": {
           "x": 0.05
          },
          "xaxis": {
           "automargin": true,
           "gridcolor": "white",
           "linecolor": "white",
           "ticks": "",
           "title": {
            "standoff": 15
           },
           "zerolinecolor": "white",
           "zerolinewidth": 2
          },
          "yaxis": {
           "automargin": true,
           "gridcolor": "white",
           "linecolor": "white",
           "ticks": "",
           "title": {
            "standoff": 15
           },
           "zerolinecolor": "white",
           "zerolinewidth": 2
          }
         }
        },
        "title": {
         "text": "Airbags & NCAP rating"
        },
        "width": 800,
        "xaxis": {
         "anchor": "y",
         "domain": [
          0,
          0.45
         ]
        },
        "xaxis2": {
         "anchor": "y2",
         "domain": [
          0.55,
          1
         ]
        },
        "yaxis": {
         "anchor": "x",
         "domain": [
          0,
          1
         ]
        },
        "yaxis2": {
         "anchor": "x2",
         "domain": [
          0,
          1
         ]
        }
       }
      }
     },
     "metadata": {},
     "output_type": "display_data"
    }
   ],
   "source": [
    "#ground clearence and ncap\n",
    "\n",
    "fig = make_subplots(rows=1, cols=2)\n",
    "\n",
    "fig.add_trace(\n",
    "    go.Bar(x=[out['Name'][0],out['Name'][1]], y=[out[' Airbags'][0],out[' Airbags'][1]]),\n",
    "    row=1, col=1\n",
    ")\n",
    "\n",
    "fig.add_trace(\n",
    "    go.Bar(x=[out['Name'][0],out['Name'][1]],y=[out[' NCAP Rating (Best - 5 Star)'][0],out[' NCAP Rating (Best - 5 Star)'][1]]),\n",
    "    row=1, col=2\n",
    ")\n",
    "\n",
    "fig.update_layout(height=600, width=800, title_text=\"Airbags & NCAP rating\")\n",
    "fig.show()\n",
    "\n",
    "\n"
   ]
  },
  {
   "cell_type": "code",
   "execution_count": 39,
   "metadata": {},
   "outputs": [
    {
     "ename": "IndentationError",
     "evalue": "unexpected indent (1893487152.py, line 3)",
     "output_type": "error",
     "traceback": [
      "\u001b[0;36m  Cell \u001b[0;32mIn[39], line 3\u001b[0;36m\u001b[0m\n\u001b[0;31m    te = make_subplots(rows=1, cols=2)\u001b[0m\n\u001b[0m    ^\u001b[0m\n\u001b[0;31mIndentationError\u001b[0m\u001b[0;31m:\u001b[0m unexpected indent\n"
     ]
    }
   ],
   "source": [
    " a=(obj.df).shape[0]\n",
    "    # print(\"rowwwwwsss :::::  \",a)\n",
    "    te = make_subplots(rows=1, cols=2)\n",
    "\n",
    "    te.add_trace(\n",
    "        go.Bar(x=[obj.df['Name'][0],obj.df['Name'][1]], y=[obj.df[' Peak Torque (Nm@rpm)'][0][0],obj.df[' Peak Torque (Nm@rpm)'][1][0]], name= 'Nm'),\n",
    "        row=1, col=1\n",
    "    )\n",
    "\n",
    "    te.add_trace(\n",
    "        go.Bar(x=[obj.df['Name'][0],obj.df['Name'][1]] ,y=[obj.df[' Peak Torque (Nm@rpm)'][0][1],obj.df[' Peak Torque (Nm@rpm)'][1][1]],name= 'Rpm'),\n",
    "        row=1, col=2\n",
    "    )\n",
    "\n",
    "    te.update_layout(height=600, width=800, title_text=\"TORQUE\")\n",
    "    # te.show()\n",
    "    graphJSON = json.dumps(te, cls=plotly.utils.PlotlyJSONEncoder)\n",
    "\n",
    "    return render_template('plot.html', graphJSON=graphJSON)"
   ]
  },
  {
   "cell_type": "code",
   "execution_count": 40,
   "metadata": {},
   "outputs": [
    {
     "name": "stdout",
     "output_type": "stream",
     "text": [
      "abcname[0],abcname[1],\n"
     ]
    }
   ],
   "source": [
    "a=2\n",
    "i=0\n",
    "X='['\n",
    "name=''\n",
    "while i < a: \n",
    "        name=name+'abcname[' +str(i)+ '],'\n",
    "        i=i+1\n",
    "    \n",
    "print(name)\n",
    "\n"
   ]
  },
  {
   "cell_type": "code",
   "execution_count": 41,
   "metadata": {},
   "outputs": [
    {
     "data": {
      "text/plain": [
       "{' Fuel Type': ' Petrol',\n",
       " ' Transmission': 5,\n",
       " ' Mileage - ARAI Reported': [20, 9],\n",
       " ' Driving Range (km)': 743,\n",
       " ' Engine': [1462, 4, 4],\n",
       " ' Engine Type': ' K15 Smart Hybrid',\n",
       " ' Peak Power (bhp@rpm)': [103, 6000],\n",
       " ' Peak Torque (Nm@rpm)': [138, 4400],\n",
       " ' Drivetrain': ' FWD',\n",
       " ' Others': ' Regenerative Braking, Idle Start/Stop',\n",
       " ' Emission Standard': ' BS6 Phase 2',\n",
       " ' Steering Type': ' Power assisted (Electric)',\n",
       " ' Suspension - Front': ' McPherson Strut',\n",
       " ' Suspension - Rear': ' Torsion Beam',\n",
       " ' Wheels Type': ' Steel Rims',\n",
       " ' Tyres Size - Front': ' 185 / 65 R15',\n",
       " ' Tyres Size - Rear': ' 185 / 65 R15',\n",
       " ' Spare Wheel': ' Steel',\n",
       " ' Bootspace / Dicky Capacity (L)': 510,\n",
       " ' Fuel Tank Capacity (L)': 43,\n",
       " ' Passenger Capacity': 5,\n",
       " ' Length (mm)': ' 4490',\n",
       " ' Width (mm)': ' 1730',\n",
       " ' Height (mm)': ' 1485',\n",
       " ' Wheelbase (mm)': ' 2650',\n",
       " ' Ground Clearance (mm)': 170,\n",
       " ' No of Seating Rows': 2,\n",
       " ' No of Doors': ' 4',\n",
       " ' NCAP Rating (Best - 5 Star)': 4,\n",
       " ' Airbags': 2,\n",
       " ' Seat Belt Warning': 'No information',\n",
       " ' Child Lock': 'No information',\n",
       " ' Anchor Points for Child Seat': 'No information',\n",
       " ' Overspeed Warning': ' 1 beep over 80kmph, Continuous beeps over 120kmph ',\n",
       " ' Speed Sensing Door Lock': 'No information',\n",
       " ' Anti theft Engine immobilizer': 'No information',\n",
       " ' Central Locking': ' Keyless',\n",
       " ' Puncture Repair Kit': 'No information',\n",
       " ' Type of Instrument Cluster / Dashboard Display': ' Analogue - Digital ',\n",
       " ' Mileage or  Average Fuel Consumption': 'No information',\n",
       " ' Real Time Mileage': 'No information',\n",
       " ' Average Speed': 'No information',\n",
       " ' Distance to Empty': 'No information',\n",
       " ' Trip Meter': ' Electronic 2 Trips',\n",
       " ' Low Fuel Warning': 'No information',\n",
       " ' Door Not Closed Warning': 'No information',\n",
       " ' Parking Sensors': ' Rear',\n",
       " ' Clock': ' Digital',\n",
       " ' Headlights On Reminder': 'No information',\n",
       " ' Tachometer': ' Analogue',\n",
       " ' Android / Apple Connectivity ': ' Android Auto (No), Apple Car Play (No)',\n",
       " ' Steering Adjustment': ' Tilt',\n",
       " ' Air Conditioner': ' Yes (Manual)',\n",
       " ' Heater': 'No information',\n",
       " ' Front AC': ' Single Zone, Common Fan Speed Control',\n",
       " ' 12V Power Outlets': ' 2',\n",
       " ' Boot Access from the Last Row Seats': 'No information',\n",
       " ' Brake Type - Front': ' Ventilated Disc',\n",
       " ' Break Type - Rear': ' Drum',\n",
       " ' ABS - Anti Lock Braking System': 'No information',\n",
       " ' EBD - Electronic Brake-force Distribution': 'No information',\n",
       " ' Braking Performance': 54.35,\n",
       " ' Seat Upholstery': ' Fabric',\n",
       " ' Adjustment Options - Driver Seat': ' 6 way manually adjustable (seat forward / back, backrest tilt forward / back, headrest up / down)',\n",
       " ' Adjustment Options - Front Passanger Seat': ' 6 way manually adjustable (seat forward / back, backrest tilt forward / back, headrest up / down)',\n",
       " ' Headrests': ' Front & Rear',\n",
       " ' Rear Passenger Seats Type': ' Bench',\n",
       " ' Folding Rear Seat': ' Full',\n",
       " ' Power Windows': ' Front & Rear',\n",
       " ' Exterior Door Handles': ' Body Coloured',\n",
       " ' Interior Door Handles': ' Chrome',\n",
       " ' Outside Rear View Mirrors (ORVMs)': ' Body Coloured',\n",
       " ' Adjustable ORVM': ' Electrically Adjustable',\n",
       " ' Turn Indicators on ORVM': 'No information',\n",
       " ' Boot / Dikki Opener': ' Electric Tailgate Release',\n",
       " ' Headlights': ' Halogen Projector',\n",
       " ' Headlight Height Adjuster': 'No information',\n",
       " ' Tail Light': ' Halogen',\n",
       " ' Interiors': ' Dual Tone',\n",
       " ' Interior Colour(s)': ' Beige and Black',\n",
       " ' Lights inside Cabin': ' Front and Rear',\n",
       " ' Cup Holders': ' Front & Rear',\n",
       " ' Pockets inside Door': ' Front & Rear',\n",
       " ' Lights on Vanity Mirrors': ' Driver & Co-Driver',\n",
       " ' Body Coloured Bumpers': 'No information',\n",
       " ' Body Kit': ' Cladding - Black/Grey',\n",
       " ' Warranty (Years)': 2,\n",
       " ' Warranty (Max Kilometres)': ' 40000',\n",
       " ' Battery Warranty (Max Kilometres)': 'No information',\n",
       " 'Name': 'Maruti Suzuki Ciaz Sigma 1.5',\n",
       " ' Minimum Turning Radius': ' 5.4',\n",
       " ' Curb Weight (kgs)': ' 1055',\n",
       " ' Middle rear three-point seatbelt': 'No information',\n",
       " ' Adjustable Cluster Brightness': 'No information',\n",
       " ' Integrated Music System': 'No information',\n",
       " ' Unit / Display Size': ' 2 Din',\n",
       " ' Infotainment Display': ' Digital Display',\n",
       " ' Steering Mounted Controls': 'No information',\n",
       " ' Speakers': ' 6',\n",
       " ' FM Radio': 'No information',\n",
       " ' Bluetooth Connectivity': ' Phone & Audio Streaming',\n",
       " ' USB / Pen-Drive Support': 'No information',\n",
       " ' Aux Support': 'No information',\n",
       " ' CD Player': 'No information',\n",
       " ' MP3 Playback': 'No information',\n",
       " ' Rear AC': '  Vents Behind Front Armrest',\n",
       " ' Vanity Mirrors on Sun Visors': ' Co-Driver Only',\n",
       " ' Anti-glare Rear View Mirrors': ' Manual - Internal Only',\n",
       " ' Brake Assist in Emergency (BA)': 'No information',\n",
       " ' Electronic Stability Program (ESP)': 'No information',\n",
       " ' Hill Hold Assist': 'No information',\n",
       " ' Driver Armrest': 'No information',\n",
       " ' Armrest for Rear Seat': ' With Cup Holder',\n",
       " ' WIndow Control: One Touch - Up': ' Driver',\n",
       " ' Window Control: One Touch -Down': ' Driver',\n",
       " ' Rear Glass Defogger': 'No information',\n",
       " ' Storage in Driver Armrest': 'No information',\n",
       " ' Pockets in Front Seat-back': 'No information'}"
      ]
     },
     "execution_count": 41,
     "metadata": {},
     "output_type": "execute_result"
    }
   ],
   "source": [
    "reg1"
   ]
  },
  {
   "cell_type": "code",
   "execution_count": 55,
   "metadata": {},
   "outputs": [],
   "source": [
    "i=0\n",
    "a=2\n",
    "airbags=[]\n",
    "ncap=[]\n",
    "while i<a:\n",
    "    airbags.append(out[' Airbags'][i])\n",
    "    ncap.append(out[' NCAP Rating (Best - 5 Star)'][i])\n",
    "    i=i+1\n",
    "\n"
   ]
  },
  {
   "cell_type": "code",
   "execution_count": 56,
   "metadata": {},
   "outputs": [
    {
     "name": "stdout",
     "output_type": "stream",
     "text": [
      "[2, 2]\n",
      "[4, 4]\n"
     ]
    },
    {
     "data": {
      "application/vnd.plotly.v1+json": {
       "config": {
        "plotlyServerURL": "https://plot.ly"
       },
       "data": [
        {
         "type": "bar",
         "x": [
          "BMW",
          "Tata"
         ],
         "xaxis": "x",
         "y": [
          2,
          2
         ],
         "yaxis": "y"
        },
        {
         "type": "bar",
         "x": [
          "BMW",
          "Tata"
         ],
         "xaxis": "x2",
         "y": [
          4,
          4
         ],
         "yaxis": "y2"
        }
       ],
       "layout": {
        "height": 600,
        "template": {
         "data": {
          "bar": [
           {
            "error_x": {
             "color": "#2a3f5f"
            },
            "error_y": {
             "color": "#2a3f5f"
            },
            "marker": {
             "line": {
              "color": "#E5ECF6",
              "width": 0.5
             },
             "pattern": {
              "fillmode": "overlay",
              "size": 10,
              "solidity": 0.2
             }
            },
            "type": "bar"
           }
          ],
          "barpolar": [
           {
            "marker": {
             "line": {
              "color": "#E5ECF6",
              "width": 0.5
             },
             "pattern": {
              "fillmode": "overlay",
              "size": 10,
              "solidity": 0.2
             }
            },
            "type": "barpolar"
           }
          ],
          "carpet": [
           {
            "aaxis": {
             "endlinecolor": "#2a3f5f",
             "gridcolor": "white",
             "linecolor": "white",
             "minorgridcolor": "white",
             "startlinecolor": "#2a3f5f"
            },
            "baxis": {
             "endlinecolor": "#2a3f5f",
             "gridcolor": "white",
             "linecolor": "white",
             "minorgridcolor": "white",
             "startlinecolor": "#2a3f5f"
            },
            "type": "carpet"
           }
          ],
          "choropleth": [
           {
            "colorbar": {
             "outlinewidth": 0,
             "ticks": ""
            },
            "type": "choropleth"
           }
          ],
          "contour": [
           {
            "colorbar": {
             "outlinewidth": 0,
             "ticks": ""
            },
            "colorscale": [
             [
              0,
              "#0d0887"
             ],
             [
              0.1111111111111111,
              "#46039f"
             ],
             [
              0.2222222222222222,
              "#7201a8"
             ],
             [
              0.3333333333333333,
              "#9c179e"
             ],
             [
              0.4444444444444444,
              "#bd3786"
             ],
             [
              0.5555555555555556,
              "#d8576b"
             ],
             [
              0.6666666666666666,
              "#ed7953"
             ],
             [
              0.7777777777777778,
              "#fb9f3a"
             ],
             [
              0.8888888888888888,
              "#fdca26"
             ],
             [
              1,
              "#f0f921"
             ]
            ],
            "type": "contour"
           }
          ],
          "contourcarpet": [
           {
            "colorbar": {
             "outlinewidth": 0,
             "ticks": ""
            },
            "type": "contourcarpet"
           }
          ],
          "heatmap": [
           {
            "colorbar": {
             "outlinewidth": 0,
             "ticks": ""
            },
            "colorscale": [
             [
              0,
              "#0d0887"
             ],
             [
              0.1111111111111111,
              "#46039f"
             ],
             [
              0.2222222222222222,
              "#7201a8"
             ],
             [
              0.3333333333333333,
              "#9c179e"
             ],
             [
              0.4444444444444444,
              "#bd3786"
             ],
             [
              0.5555555555555556,
              "#d8576b"
             ],
             [
              0.6666666666666666,
              "#ed7953"
             ],
             [
              0.7777777777777778,
              "#fb9f3a"
             ],
             [
              0.8888888888888888,
              "#fdca26"
             ],
             [
              1,
              "#f0f921"
             ]
            ],
            "type": "heatmap"
           }
          ],
          "heatmapgl": [
           {
            "colorbar": {
             "outlinewidth": 0,
             "ticks": ""
            },
            "colorscale": [
             [
              0,
              "#0d0887"
             ],
             [
              0.1111111111111111,
              "#46039f"
             ],
             [
              0.2222222222222222,
              "#7201a8"
             ],
             [
              0.3333333333333333,
              "#9c179e"
             ],
             [
              0.4444444444444444,
              "#bd3786"
             ],
             [
              0.5555555555555556,
              "#d8576b"
             ],
             [
              0.6666666666666666,
              "#ed7953"
             ],
             [
              0.7777777777777778,
              "#fb9f3a"
             ],
             [
              0.8888888888888888,
              "#fdca26"
             ],
             [
              1,
              "#f0f921"
             ]
            ],
            "type": "heatmapgl"
           }
          ],
          "histogram": [
           {
            "marker": {
             "pattern": {
              "fillmode": "overlay",
              "size": 10,
              "solidity": 0.2
             }
            },
            "type": "histogram"
           }
          ],
          "histogram2d": [
           {
            "colorbar": {
             "outlinewidth": 0,
             "ticks": ""
            },
            "colorscale": [
             [
              0,
              "#0d0887"
             ],
             [
              0.1111111111111111,
              "#46039f"
             ],
             [
              0.2222222222222222,
              "#7201a8"
             ],
             [
              0.3333333333333333,
              "#9c179e"
             ],
             [
              0.4444444444444444,
              "#bd3786"
             ],
             [
              0.5555555555555556,
              "#d8576b"
             ],
             [
              0.6666666666666666,
              "#ed7953"
             ],
             [
              0.7777777777777778,
              "#fb9f3a"
             ],
             [
              0.8888888888888888,
              "#fdca26"
             ],
             [
              1,
              "#f0f921"
             ]
            ],
            "type": "histogram2d"
           }
          ],
          "histogram2dcontour": [
           {
            "colorbar": {
             "outlinewidth": 0,
             "ticks": ""
            },
            "colorscale": [
             [
              0,
              "#0d0887"
             ],
             [
              0.1111111111111111,
              "#46039f"
             ],
             [
              0.2222222222222222,
              "#7201a8"
             ],
             [
              0.3333333333333333,
              "#9c179e"
             ],
             [
              0.4444444444444444,
              "#bd3786"
             ],
             [
              0.5555555555555556,
              "#d8576b"
             ],
             [
              0.6666666666666666,
              "#ed7953"
             ],
             [
              0.7777777777777778,
              "#fb9f3a"
             ],
             [
              0.8888888888888888,
              "#fdca26"
             ],
             [
              1,
              "#f0f921"
             ]
            ],
            "type": "histogram2dcontour"
           }
          ],
          "mesh3d": [
           {
            "colorbar": {
             "outlinewidth": 0,
             "ticks": ""
            },
            "type": "mesh3d"
           }
          ],
          "parcoords": [
           {
            "line": {
             "colorbar": {
              "outlinewidth": 0,
              "ticks": ""
             }
            },
            "type": "parcoords"
           }
          ],
          "pie": [
           {
            "automargin": true,
            "type": "pie"
           }
          ],
          "scatter": [
           {
            "fillpattern": {
             "fillmode": "overlay",
             "size": 10,
             "solidity": 0.2
            },
            "type": "scatter"
           }
          ],
          "scatter3d": [
           {
            "line": {
             "colorbar": {
              "outlinewidth": 0,
              "ticks": ""
             }
            },
            "marker": {
             "colorbar": {
              "outlinewidth": 0,
              "ticks": ""
             }
            },
            "type": "scatter3d"
           }
          ],
          "scattercarpet": [
           {
            "marker": {
             "colorbar": {
              "outlinewidth": 0,
              "ticks": ""
             }
            },
            "type": "scattercarpet"
           }
          ],
          "scattergeo": [
           {
            "marker": {
             "colorbar": {
              "outlinewidth": 0,
              "ticks": ""
             }
            },
            "type": "scattergeo"
           }
          ],
          "scattergl": [
           {
            "marker": {
             "colorbar": {
              "outlinewidth": 0,
              "ticks": ""
             }
            },
            "type": "scattergl"
           }
          ],
          "scattermapbox": [
           {
            "marker": {
             "colorbar": {
              "outlinewidth": 0,
              "ticks": ""
             }
            },
            "type": "scattermapbox"
           }
          ],
          "scatterpolar": [
           {
            "marker": {
             "colorbar": {
              "outlinewidth": 0,
              "ticks": ""
             }
            },
            "type": "scatterpolar"
           }
          ],
          "scatterpolargl": [
           {
            "marker": {
             "colorbar": {
              "outlinewidth": 0,
              "ticks": ""
             }
            },
            "type": "scatterpolargl"
           }
          ],
          "scatterternary": [
           {
            "marker": {
             "colorbar": {
              "outlinewidth": 0,
              "ticks": ""
             }
            },
            "type": "scatterternary"
           }
          ],
          "surface": [
           {
            "colorbar": {
             "outlinewidth": 0,
             "ticks": ""
            },
            "colorscale": [
             [
              0,
              "#0d0887"
             ],
             [
              0.1111111111111111,
              "#46039f"
             ],
             [
              0.2222222222222222,
              "#7201a8"
             ],
             [
              0.3333333333333333,
              "#9c179e"
             ],
             [
              0.4444444444444444,
              "#bd3786"
             ],
             [
              0.5555555555555556,
              "#d8576b"
             ],
             [
              0.6666666666666666,
              "#ed7953"
             ],
             [
              0.7777777777777778,
              "#fb9f3a"
             ],
             [
              0.8888888888888888,
              "#fdca26"
             ],
             [
              1,
              "#f0f921"
             ]
            ],
            "type": "surface"
           }
          ],
          "table": [
           {
            "cells": {
             "fill": {
              "color": "#EBF0F8"
             },
             "line": {
              "color": "white"
             }
            },
            "header": {
             "fill": {
              "color": "#C8D4E3"
             },
             "line": {
              "color": "white"
             }
            },
            "type": "table"
           }
          ]
         },
         "layout": {
          "annotationdefaults": {
           "arrowcolor": "#2a3f5f",
           "arrowhead": 0,
           "arrowwidth": 1
          },
          "autotypenumbers": "strict",
          "coloraxis": {
           "colorbar": {
            "outlinewidth": 0,
            "ticks": ""
           }
          },
          "colorscale": {
           "diverging": [
            [
             0,
             "#8e0152"
            ],
            [
             0.1,
             "#c51b7d"
            ],
            [
             0.2,
             "#de77ae"
            ],
            [
             0.3,
             "#f1b6da"
            ],
            [
             0.4,
             "#fde0ef"
            ],
            [
             0.5,
             "#f7f7f7"
            ],
            [
             0.6,
             "#e6f5d0"
            ],
            [
             0.7,
             "#b8e186"
            ],
            [
             0.8,
             "#7fbc41"
            ],
            [
             0.9,
             "#4d9221"
            ],
            [
             1,
             "#276419"
            ]
           ],
           "sequential": [
            [
             0,
             "#0d0887"
            ],
            [
             0.1111111111111111,
             "#46039f"
            ],
            [
             0.2222222222222222,
             "#7201a8"
            ],
            [
             0.3333333333333333,
             "#9c179e"
            ],
            [
             0.4444444444444444,
             "#bd3786"
            ],
            [
             0.5555555555555556,
             "#d8576b"
            ],
            [
             0.6666666666666666,
             "#ed7953"
            ],
            [
             0.7777777777777778,
             "#fb9f3a"
            ],
            [
             0.8888888888888888,
             "#fdca26"
            ],
            [
             1,
             "#f0f921"
            ]
           ],
           "sequentialminus": [
            [
             0,
             "#0d0887"
            ],
            [
             0.1111111111111111,
             "#46039f"
            ],
            [
             0.2222222222222222,
             "#7201a8"
            ],
            [
             0.3333333333333333,
             "#9c179e"
            ],
            [
             0.4444444444444444,
             "#bd3786"
            ],
            [
             0.5555555555555556,
             "#d8576b"
            ],
            [
             0.6666666666666666,
             "#ed7953"
            ],
            [
             0.7777777777777778,
             "#fb9f3a"
            ],
            [
             0.8888888888888888,
             "#fdca26"
            ],
            [
             1,
             "#f0f921"
            ]
           ]
          },
          "colorway": [
           "#636efa",
           "#EF553B",
           "#00cc96",
           "#ab63fa",
           "#FFA15A",
           "#19d3f3",
           "#FF6692",
           "#B6E880",
           "#FF97FF",
           "#FECB52"
          ],
          "font": {
           "color": "#2a3f5f"
          },
          "geo": {
           "bgcolor": "white",
           "lakecolor": "white",
           "landcolor": "#E5ECF6",
           "showlakes": true,
           "showland": true,
           "subunitcolor": "white"
          },
          "hoverlabel": {
           "align": "left"
          },
          "hovermode": "closest",
          "mapbox": {
           "style": "light"
          },
          "paper_bgcolor": "white",
          "plot_bgcolor": "#E5ECF6",
          "polar": {
           "angularaxis": {
            "gridcolor": "white",
            "linecolor": "white",
            "ticks": ""
           },
           "bgcolor": "#E5ECF6",
           "radialaxis": {
            "gridcolor": "white",
            "linecolor": "white",
            "ticks": ""
           }
          },
          "scene": {
           "xaxis": {
            "backgroundcolor": "#E5ECF6",
            "gridcolor": "white",
            "gridwidth": 2,
            "linecolor": "white",
            "showbackground": true,
            "ticks": "",
            "zerolinecolor": "white"
           },
           "yaxis": {
            "backgroundcolor": "#E5ECF6",
            "gridcolor": "white",
            "gridwidth": 2,
            "linecolor": "white",
            "showbackground": true,
            "ticks": "",
            "zerolinecolor": "white"
           },
           "zaxis": {
            "backgroundcolor": "#E5ECF6",
            "gridcolor": "white",
            "gridwidth": 2,
            "linecolor": "white",
            "showbackground": true,
            "ticks": "",
            "zerolinecolor": "white"
           }
          },
          "shapedefaults": {
           "line": {
            "color": "#2a3f5f"
           }
          },
          "ternary": {
           "aaxis": {
            "gridcolor": "white",
            "linecolor": "white",
            "ticks": ""
           },
           "baxis": {
            "gridcolor": "white",
            "linecolor": "white",
            "ticks": ""
           },
           "bgcolor": "#E5ECF6",
           "caxis": {
            "gridcolor": "white",
            "linecolor": "white",
            "ticks": ""
           }
          },
          "title": {
           "x": 0.05
          },
          "xaxis": {
           "automargin": true,
           "gridcolor": "white",
           "linecolor": "white",
           "ticks": "",
           "title": {
            "standoff": 15
           },
           "zerolinecolor": "white",
           "zerolinewidth": 2
          },
          "yaxis": {
           "automargin": true,
           "gridcolor": "white",
           "linecolor": "white",
           "ticks": "",
           "title": {
            "standoff": 15
           },
           "zerolinecolor": "white",
           "zerolinewidth": 2
          }
         }
        },
        "title": {
         "text": "Airbags & NCAP rating"
        },
        "width": 800,
        "xaxis": {
         "anchor": "y",
         "domain": [
          0,
          0.45
         ]
        },
        "xaxis2": {
         "anchor": "y2",
         "domain": [
          0.55,
          1
         ]
        },
        "yaxis": {
         "anchor": "x",
         "domain": [
          0,
          1
         ]
        },
        "yaxis2": {
         "anchor": "x2",
         "domain": [
          0,
          1
         ]
        }
       }
      }
     },
     "metadata": {},
     "output_type": "display_data"
    }
   ],
   "source": [
    "import plotly.express as px\n",
    "from plotly.subplots import make_subplots\n",
    "import plotly.graph_objects as go\n",
    "import plotly\n",
    "import json\n",
    "\n",
    "# ncap=[2, 2]\n",
    "# airbags =out[' Airbags']\n",
    "print(airbags)\n",
    "print(ncap)\n",
    "name=['BMW','Tata']\n",
    "\n",
    "NA = make_subplots(rows=1, cols=2)\n",
    "\n",
    "NA.add_trace(\n",
    "    go.Bar(x=[name for name in name], y=[airbag for airbag in airbags]),\n",
    "    row=1, col=1\n",
    ")\n",
    "\n",
    "NA.add_trace(\n",
    "    go.Bar(x=[name for name in name],y=[nc for nc in ncap]),\n",
    "    row=1, col=2\n",
    ")\n",
    "\n",
    "NA.update_layout(height=600, width=800, title_text=\"Airbags & NCAP rating\")\n",
    "na = json.dumps(NA, cls=plotly.utils.PlotlyJSONEncoder)\n",
    "NA.show()\n",
    "\n"
   ]
  },
  {
   "cell_type": "code",
   "execution_count": null,
   "metadata": {},
   "outputs": [],
   "source": []
  },
  {
   "cell_type": "code",
   "execution_count": null,
   "metadata": {},
   "outputs": [],
   "source": []
  },
  {
   "cell_type": "code",
   "execution_count": null,
   "metadata": {},
   "outputs": [],
   "source": []
  },
  {
   "cell_type": "code",
   "execution_count": null,
   "metadata": {},
   "outputs": [],
   "source": []
  }
 ],
 "metadata": {
  "kernelspec": {
   "display_name": "Python 3",
   "language": "python",
   "name": "python3"
  },
  "language_info": {
   "codemirror_mode": {
    "name": "ipython",
    "version": 3
   },
   "file_extension": ".py",
   "mimetype": "text/x-python",
   "name": "python",
   "nbconvert_exporter": "python",
   "pygments_lexer": "ipython3",
   "version": "3.10.6"
  },
  "orig_nbformat": 4
 },
 "nbformat": 4,
 "nbformat_minor": 2
}
